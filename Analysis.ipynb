{
 "cells": [
  {
   "cell_type": "markdown",
   "metadata": {},
   "source": [
    "### Import necessary libraries"
   ]
  },
  {
   "cell_type": "code",
   "execution_count": 209,
   "metadata": {},
   "outputs": [],
   "source": [
    "import pandas as pd"
   ]
  },
  {
   "cell_type": "code",
   "execution_count": 210,
   "metadata": {},
   "outputs": [],
   "source": [
    "import numpy as np"
   ]
  },
  {
   "cell_type": "code",
   "execution_count": 211,
   "metadata": {},
   "outputs": [],
   "source": [
    "import matplotlib.pyplot as plt"
   ]
  },
  {
   "cell_type": "code",
   "execution_count": 212,
   "metadata": {},
   "outputs": [],
   "source": [
    "import seaborn as sns"
   ]
  },
  {
   "cell_type": "markdown",
   "metadata": {},
   "source": [
    "## Task1:  Read the data and clean up"
   ]
  },
  {
   "cell_type": "markdown",
   "metadata": {},
   "source": [
    "#### Read books"
   ]
  },
  {
   "cell_type": "code",
   "execution_count": 213,
   "metadata": {},
   "outputs": [
    {
     "data": {
      "text/html": [
       "<div>\n",
       "<style scoped>\n",
       "    .dataframe tbody tr th:only-of-type {\n",
       "        vertical-align: middle;\n",
       "    }\n",
       "\n",
       "    .dataframe tbody tr th {\n",
       "        vertical-align: top;\n",
       "    }\n",
       "\n",
       "    .dataframe thead th {\n",
       "        text-align: right;\n",
       "    }\n",
       "</style>\n",
       "<table border=\"1\" class=\"dataframe\">\n",
       "  <thead>\n",
       "    <tr style=\"text-align: right;\">\n",
       "      <th></th>\n",
       "      <th>ISBN</th>\n",
       "      <th>Book-Title</th>\n",
       "      <th>Book-Author</th>\n",
       "      <th>Year-Of-Publication</th>\n",
       "      <th>Publisher</th>\n",
       "      <th>Image-URL-S</th>\n",
       "      <th>Image-URL-M</th>\n",
       "      <th>Image-URL-L</th>\n",
       "      <th>Unnamed: 8</th>\n",
       "      <th>Unnamed: 9</th>\n",
       "      <th>Unnamed: 10</th>\n",
       "      <th>Unnamed: 11</th>\n",
       "    </tr>\n",
       "  </thead>\n",
       "  <tbody>\n",
       "    <tr>\n",
       "      <th>0</th>\n",
       "      <td>0195153448</td>\n",
       "      <td>Classical Mythology</td>\n",
       "      <td>Mark P. O. Morford</td>\n",
       "      <td>2002</td>\n",
       "      <td>Oxford University Press</td>\n",
       "      <td>http://images.amazon.com/images/P/0195153448.0...</td>\n",
       "      <td>http://images.amazon.com/images/P/0195153448.0...</td>\n",
       "      <td>http://images.amazon.com/images/P/0195153448.0...</td>\n",
       "      <td>NaN</td>\n",
       "      <td>NaN</td>\n",
       "      <td>NaN</td>\n",
       "      <td>NaN</td>\n",
       "    </tr>\n",
       "    <tr>\n",
       "      <th>1</th>\n",
       "      <td>0002005018</td>\n",
       "      <td>Clara Callan</td>\n",
       "      <td>Richard Bruce Wright</td>\n",
       "      <td>2001</td>\n",
       "      <td>HarperFlamingo Canada</td>\n",
       "      <td>http://images.amazon.com/images/P/0002005018.0...</td>\n",
       "      <td>http://images.amazon.com/images/P/0002005018.0...</td>\n",
       "      <td>http://images.amazon.com/images/P/0002005018.0...</td>\n",
       "      <td>NaN</td>\n",
       "      <td>NaN</td>\n",
       "      <td>NaN</td>\n",
       "      <td>NaN</td>\n",
       "    </tr>\n",
       "    <tr>\n",
       "      <th>2</th>\n",
       "      <td>0060973129</td>\n",
       "      <td>Decision in Normandy</td>\n",
       "      <td>Carlo D'Este</td>\n",
       "      <td>1991</td>\n",
       "      <td>HarperPerennial</td>\n",
       "      <td>http://images.amazon.com/images/P/0060973129.0...</td>\n",
       "      <td>http://images.amazon.com/images/P/0060973129.0...</td>\n",
       "      <td>http://images.amazon.com/images/P/0060973129.0...</td>\n",
       "      <td>NaN</td>\n",
       "      <td>NaN</td>\n",
       "      <td>NaN</td>\n",
       "      <td>NaN</td>\n",
       "    </tr>\n",
       "    <tr>\n",
       "      <th>3</th>\n",
       "      <td>0374157065</td>\n",
       "      <td>Flu: The Story of the Great Influenza Pandemic...</td>\n",
       "      <td>Gina Bari Kolata</td>\n",
       "      <td>1999</td>\n",
       "      <td>Farrar Straus Giroux</td>\n",
       "      <td>http://images.amazon.com/images/P/0374157065.0...</td>\n",
       "      <td>http://images.amazon.com/images/P/0374157065.0...</td>\n",
       "      <td>http://images.amazon.com/images/P/0374157065.0...</td>\n",
       "      <td>NaN</td>\n",
       "      <td>NaN</td>\n",
       "      <td>NaN</td>\n",
       "      <td>NaN</td>\n",
       "    </tr>\n",
       "    <tr>\n",
       "      <th>4</th>\n",
       "      <td>0393045218</td>\n",
       "      <td>The Mummies of Urumchi</td>\n",
       "      <td>E. J. W. Barber</td>\n",
       "      <td>1999</td>\n",
       "      <td>W. W. Norton &amp;amp; Company</td>\n",
       "      <td>http://images.amazon.com/images/P/0393045218.0...</td>\n",
       "      <td>http://images.amazon.com/images/P/0393045218.0...</td>\n",
       "      <td>http://images.amazon.com/images/P/0393045218.0...</td>\n",
       "      <td>NaN</td>\n",
       "      <td>NaN</td>\n",
       "      <td>NaN</td>\n",
       "      <td>NaN</td>\n",
       "    </tr>\n",
       "  </tbody>\n",
       "</table>\n",
       "</div>"
      ],
      "text/plain": [
       "         ISBN                                         Book-Title  \\\n",
       "0  0195153448                                Classical Mythology   \n",
       "1  0002005018                                       Clara Callan   \n",
       "2  0060973129                               Decision in Normandy   \n",
       "3  0374157065  Flu: The Story of the Great Influenza Pandemic...   \n",
       "4  0393045218                             The Mummies of Urumchi   \n",
       "\n",
       "            Book-Author Year-Of-Publication                   Publisher  \\\n",
       "0    Mark P. O. Morford                2002     Oxford University Press   \n",
       "1  Richard Bruce Wright                2001       HarperFlamingo Canada   \n",
       "2          Carlo D'Este                1991             HarperPerennial   \n",
       "3      Gina Bari Kolata                1999        Farrar Straus Giroux   \n",
       "4       E. J. W. Barber                1999  W. W. Norton &amp; Company   \n",
       "\n",
       "                                         Image-URL-S  \\\n",
       "0  http://images.amazon.com/images/P/0195153448.0...   \n",
       "1  http://images.amazon.com/images/P/0002005018.0...   \n",
       "2  http://images.amazon.com/images/P/0060973129.0...   \n",
       "3  http://images.amazon.com/images/P/0374157065.0...   \n",
       "4  http://images.amazon.com/images/P/0393045218.0...   \n",
       "\n",
       "                                         Image-URL-M  \\\n",
       "0  http://images.amazon.com/images/P/0195153448.0...   \n",
       "1  http://images.amazon.com/images/P/0002005018.0...   \n",
       "2  http://images.amazon.com/images/P/0060973129.0...   \n",
       "3  http://images.amazon.com/images/P/0374157065.0...   \n",
       "4  http://images.amazon.com/images/P/0393045218.0...   \n",
       "\n",
       "                                         Image-URL-L Unnamed: 8 Unnamed: 9  \\\n",
       "0  http://images.amazon.com/images/P/0195153448.0...        NaN        NaN   \n",
       "1  http://images.amazon.com/images/P/0002005018.0...        NaN        NaN   \n",
       "2  http://images.amazon.com/images/P/0060973129.0...        NaN        NaN   \n",
       "3  http://images.amazon.com/images/P/0374157065.0...        NaN        NaN   \n",
       "4  http://images.amazon.com/images/P/0393045218.0...        NaN        NaN   \n",
       "\n",
       "  Unnamed: 10 Unnamed: 11  \n",
       "0         NaN         NaN  \n",
       "1         NaN         NaN  \n",
       "2         NaN         NaN  \n",
       "3         NaN         NaN  \n",
       "4         NaN         NaN  "
      ]
     },
     "execution_count": 213,
     "metadata": {},
     "output_type": "execute_result"
    }
   ],
   "source": [
    "books=pd.read_csv(\"./Data/Book_reviews/BX-Books.csv\", engine=\"python\", sep=',', quotechar='\"' )\n",
    "books.head()"
   ]
  },
  {
   "cell_type": "markdown",
   "metadata": {},
   "source": [
    "#### Read users"
   ]
  },
  {
   "cell_type": "code",
   "execution_count": 214,
   "metadata": {},
   "outputs": [
    {
     "data": {
      "text/html": [
       "<div>\n",
       "<style scoped>\n",
       "    .dataframe tbody tr th:only-of-type {\n",
       "        vertical-align: middle;\n",
       "    }\n",
       "\n",
       "    .dataframe tbody tr th {\n",
       "        vertical-align: top;\n",
       "    }\n",
       "\n",
       "    .dataframe thead th {\n",
       "        text-align: right;\n",
       "    }\n",
       "</style>\n",
       "<table border=\"1\" class=\"dataframe\">\n",
       "  <thead>\n",
       "    <tr style=\"text-align: right;\">\n",
       "      <th></th>\n",
       "      <th>User-ID</th>\n",
       "      <th>Location</th>\n",
       "      <th>Age</th>\n",
       "      <th>Unnamed: 3</th>\n",
       "      <th>Unnamed: 4</th>\n",
       "      <th>Unnamed: 5</th>\n",
       "    </tr>\n",
       "  </thead>\n",
       "  <tbody>\n",
       "    <tr>\n",
       "      <th>0</th>\n",
       "      <td>1</td>\n",
       "      <td>nyc, new york, usa</td>\n",
       "      <td>NaN</td>\n",
       "      <td>NaN</td>\n",
       "      <td>NaN</td>\n",
       "      <td>NaN</td>\n",
       "    </tr>\n",
       "    <tr>\n",
       "      <th>1</th>\n",
       "      <td>2</td>\n",
       "      <td>stockton, california, usa</td>\n",
       "      <td>18</td>\n",
       "      <td>NaN</td>\n",
       "      <td>NaN</td>\n",
       "      <td>NaN</td>\n",
       "    </tr>\n",
       "    <tr>\n",
       "      <th>2</th>\n",
       "      <td>3</td>\n",
       "      <td>moscow, yukon territory, russia</td>\n",
       "      <td>NaN</td>\n",
       "      <td>NaN</td>\n",
       "      <td>NaN</td>\n",
       "      <td>NaN</td>\n",
       "    </tr>\n",
       "    <tr>\n",
       "      <th>3</th>\n",
       "      <td>4</td>\n",
       "      <td>porto, v.n.gaia, portugal</td>\n",
       "      <td>17</td>\n",
       "      <td>NaN</td>\n",
       "      <td>NaN</td>\n",
       "      <td>NaN</td>\n",
       "    </tr>\n",
       "    <tr>\n",
       "      <th>4</th>\n",
       "      <td>5</td>\n",
       "      <td>farnborough, hants, united kingdom</td>\n",
       "      <td>NaN</td>\n",
       "      <td>NaN</td>\n",
       "      <td>NaN</td>\n",
       "      <td>NaN</td>\n",
       "    </tr>\n",
       "  </tbody>\n",
       "</table>\n",
       "</div>"
      ],
      "text/plain": [
       "   User-ID                            Location  Age Unnamed: 3 Unnamed: 4  \\\n",
       "0        1                  nyc, new york, usa  NaN        NaN        NaN   \n",
       "1        2           stockton, california, usa   18        NaN        NaN   \n",
       "2        3     moscow, yukon territory, russia  NaN        NaN        NaN   \n",
       "3        4           porto, v.n.gaia, portugal   17        NaN        NaN   \n",
       "4        5  farnborough, hants, united kingdom  NaN        NaN        NaN   \n",
       "\n",
       "   Unnamed: 5  \n",
       "0         NaN  \n",
       "1         NaN  \n",
       "2         NaN  \n",
       "3         NaN  \n",
       "4         NaN  "
      ]
     },
     "execution_count": 214,
     "metadata": {},
     "output_type": "execute_result"
    }
   ],
   "source": [
    "users=pd.read_csv(\"./Data/Book_reviews/BX-Users.csv\", engine=\"python\", sep=',', quotechar='\"' )\n",
    "users.head()"
   ]
  },
  {
   "cell_type": "markdown",
   "metadata": {},
   "source": [
    "#### Read ratings"
   ]
  },
  {
   "cell_type": "code",
   "execution_count": 215,
   "metadata": {},
   "outputs": [
    {
     "data": {
      "text/html": [
       "<div>\n",
       "<style scoped>\n",
       "    .dataframe tbody tr th:only-of-type {\n",
       "        vertical-align: middle;\n",
       "    }\n",
       "\n",
       "    .dataframe tbody tr th {\n",
       "        vertical-align: top;\n",
       "    }\n",
       "\n",
       "    .dataframe thead th {\n",
       "        text-align: right;\n",
       "    }\n",
       "</style>\n",
       "<table border=\"1\" class=\"dataframe\">\n",
       "  <thead>\n",
       "    <tr style=\"text-align: right;\">\n",
       "      <th></th>\n",
       "      <th>User-ID</th>\n",
       "      <th>ISBN</th>\n",
       "      <th>Book-Rating</th>\n",
       "    </tr>\n",
       "  </thead>\n",
       "  <tbody>\n",
       "    <tr>\n",
       "      <th>0</th>\n",
       "      <td>276725</td>\n",
       "      <td>034545104X</td>\n",
       "      <td>0.0</td>\n",
       "    </tr>\n",
       "    <tr>\n",
       "      <th>1</th>\n",
       "      <td>276726</td>\n",
       "      <td>0155061224</td>\n",
       "      <td>5.0</td>\n",
       "    </tr>\n",
       "    <tr>\n",
       "      <th>2</th>\n",
       "      <td>276727</td>\n",
       "      <td>0446520802</td>\n",
       "      <td>0.0</td>\n",
       "    </tr>\n",
       "    <tr>\n",
       "      <th>3</th>\n",
       "      <td>276729</td>\n",
       "      <td>052165615X</td>\n",
       "      <td>3.0</td>\n",
       "    </tr>\n",
       "    <tr>\n",
       "      <th>4</th>\n",
       "      <td>276729</td>\n",
       "      <td>0521795028</td>\n",
       "      <td>6.0</td>\n",
       "    </tr>\n",
       "  </tbody>\n",
       "</table>\n",
       "</div>"
      ],
      "text/plain": [
       "   User-ID        ISBN  Book-Rating\n",
       "0   276725  034545104X          0.0\n",
       "1   276726  0155061224          5.0\n",
       "2   276727  0446520802          0.0\n",
       "3   276729  052165615X          3.0\n",
       "4   276729  0521795028          6.0"
      ]
     },
     "execution_count": 215,
     "metadata": {},
     "output_type": "execute_result"
    }
   ],
   "source": [
    "ratings=pd.read_csv(\"./Data/Book_reviews/BX-Book-Ratings.csv\", engine=\"python\", sep=',', quotechar='\"' )\n",
    "ratings.head()"
   ]
  },
  {
   "cell_type": "markdown",
   "metadata": {},
   "source": [
    "#### Table cleaning"
   ]
  },
  {
   "cell_type": "code",
   "execution_count": 216,
   "metadata": {
    "scrolled": true
   },
   "outputs": [
    {
     "name": "stdout",
     "output_type": "stream",
     "text": [
      "        User-ID                            Location  Age\n",
      "0             1                  nyc, new york, usa  NaN\n",
      "1             2           stockton, california, usa   18\n",
      "2             3     moscow, yukon territory, russia  NaN\n",
      "3             4           porto, v.n.gaia, portugal   17\n",
      "4             5  farnborough, hants, united kingdom  NaN\n",
      "...         ...                                 ...  ...\n",
      "278846   278854               portland, oregon, usa  NaN\n",
      "278847   278855  tacoma, washington, united kingdom   50\n",
      "278848   278856           brampton, ontario, canada  NaN\n",
      "278849   278857           knoxville, tennessee, usa  NaN\n",
      "278850   278858                dublin, n/a, ireland  NaN\n",
      "\n",
      "[278851 rows x 3 columns]\n"
     ]
    }
   ],
   "source": [
    "users = users.drop(['Unnamed: 3', 'Unnamed: 4', 'Unnamed: 5'], axis=1)\n",
    "print(users)"
   ]
  },
  {
   "cell_type": "code",
   "execution_count": 217,
   "metadata": {},
   "outputs": [
    {
     "name": "stdout",
     "output_type": "stream",
     "text": [
      "              ISBN                                         Book-Title  \\\n",
      "0       0195153448                                Classical Mythology   \n",
      "1       0002005018                                       Clara Callan   \n",
      "2       0060973129                               Decision in Normandy   \n",
      "3       0374157065  Flu: The Story of the Great Influenza Pandemic...   \n",
      "4       0393045218                             The Mummies of Urumchi   \n",
      "...            ...                                                ...   \n",
      "271374  0440400988                         There's a Bat in Bunk Five   \n",
      "271375  0525447644                            From One to One Hundred   \n",
      "271376  006008667X  Lily Dale : The True Story of the Town that Ta...   \n",
      "271377  0192126040                        Republic (World's Classics)   \n",
      "271378  0767409752  A Guided Tour of Rene Descartes' Meditations o...   \n",
      "\n",
      "                 Book-Author Year-Of-Publication  \\\n",
      "0         Mark P. O. Morford                2002   \n",
      "1       Richard Bruce Wright                2001   \n",
      "2               Carlo D'Este                1991   \n",
      "3           Gina Bari Kolata                1999   \n",
      "4            E. J. W. Barber                1999   \n",
      "...                      ...                 ...   \n",
      "271374        Paula Danziger                1988   \n",
      "271375            Teri Sloat                1991   \n",
      "271376      Christine Wicker                2004   \n",
      "271377                 Plato                1996   \n",
      "271378   Christopher  Biffle                2000   \n",
      "\n",
      "                                               Publisher  \\\n",
      "0                                Oxford University Press   \n",
      "1                                  HarperFlamingo Canada   \n",
      "2                                        HarperPerennial   \n",
      "3                                   Farrar Straus Giroux   \n",
      "4                             W. W. Norton &amp; Company   \n",
      "...                                                  ...   \n",
      "271374                   Random House Childrens Pub (Mm)   \n",
      "271375                                      Dutton Books   \n",
      "271376                                HarperSanFrancisco   \n",
      "271377                           Oxford University Press   \n",
      "271378  McGraw-Hill Humanities/Social Sciences/Languages   \n",
      "\n",
      "                                              Image-URL-S  \\\n",
      "0       http://images.amazon.com/images/P/0195153448.0...   \n",
      "1       http://images.amazon.com/images/P/0002005018.0...   \n",
      "2       http://images.amazon.com/images/P/0060973129.0...   \n",
      "3       http://images.amazon.com/images/P/0374157065.0...   \n",
      "4       http://images.amazon.com/images/P/0393045218.0...   \n",
      "...                                                   ...   \n",
      "271374  http://images.amazon.com/images/P/0440400988.0...   \n",
      "271375  http://images.amazon.com/images/P/0525447644.0...   \n",
      "271376  http://images.amazon.com/images/P/006008667X.0...   \n",
      "271377  http://images.amazon.com/images/P/0192126040.0...   \n",
      "271378  http://images.amazon.com/images/P/0767409752.0...   \n",
      "\n",
      "                                              Image-URL-M  \\\n",
      "0       http://images.amazon.com/images/P/0195153448.0...   \n",
      "1       http://images.amazon.com/images/P/0002005018.0...   \n",
      "2       http://images.amazon.com/images/P/0060973129.0...   \n",
      "3       http://images.amazon.com/images/P/0374157065.0...   \n",
      "4       http://images.amazon.com/images/P/0393045218.0...   \n",
      "...                                                   ...   \n",
      "271374  http://images.amazon.com/images/P/0440400988.0...   \n",
      "271375  http://images.amazon.com/images/P/0525447644.0...   \n",
      "271376  http://images.amazon.com/images/P/006008667X.0...   \n",
      "271377  http://images.amazon.com/images/P/0192126040.0...   \n",
      "271378  http://images.amazon.com/images/P/0767409752.0...   \n",
      "\n",
      "                                              Image-URL-L  \n",
      "0       http://images.amazon.com/images/P/0195153448.0...  \n",
      "1       http://images.amazon.com/images/P/0002005018.0...  \n",
      "2       http://images.amazon.com/images/P/0060973129.0...  \n",
      "3       http://images.amazon.com/images/P/0374157065.0...  \n",
      "4       http://images.amazon.com/images/P/0393045218.0...  \n",
      "...                                                   ...  \n",
      "271374  http://images.amazon.com/images/P/0440400988.0...  \n",
      "271375  http://images.amazon.com/images/P/0525447644.0...  \n",
      "271376  http://images.amazon.com/images/P/006008667X.0...  \n",
      "271377  http://images.amazon.com/images/P/0192126040.0...  \n",
      "271378  http://images.amazon.com/images/P/0767409752.0...  \n",
      "\n",
      "[271379 rows x 8 columns]\n"
     ]
    }
   ],
   "source": [
    "books = books.drop(['Unnamed: 8','Unnamed: 9','Unnamed: 10', 'Unnamed: 11'], axis=1)\n",
    "print(books)"
   ]
  },
  {
   "cell_type": "code",
   "execution_count": 218,
   "metadata": {
    "scrolled": true
   },
   "outputs": [],
   "source": [
    "b=books[pd.to_numeric(books['Year-Of-Publication'], errors='coerce').notnull()]"
   ]
  },
  {
   "cell_type": "code",
   "execution_count": 219,
   "metadata": {},
   "outputs": [],
   "source": [
    "ratings = ratings[(ratings[['Book-Rating']] != 0).all(axis=1)]\n"
   ]
  },
  {
   "cell_type": "code",
   "execution_count": 220,
   "metadata": {},
   "outputs": [],
   "source": [
    "indexes = books[books['Book-Author'].str.contains(r'[0-9]')==True].index\n",
    "books.drop(indexes, inplace=True, axis=0)"
   ]
  },
  {
   "cell_type": "code",
   "execution_count": 221,
   "metadata": {},
   "outputs": [],
   "source": [
    "indexes2 = books.index[books['Year-Of-Publication'].str.contains(r'[a-zA-Z]')==True]\n",
    "books.drop(indexes2, 0, inplace=True)"
   ]
  },
  {
   "cell_type": "code",
   "execution_count": null,
   "metadata": {},
   "outputs": [],
   "source": []
  },
  {
   "cell_type": "code",
   "execution_count": 222,
   "metadata": {},
   "outputs": [
    {
     "data": {
      "text/plain": [
       "0         2002\n",
       "1         2001\n",
       "2         1991\n",
       "3         1999\n",
       "4         1999\n",
       "          ... \n",
       "271374    1988\n",
       "271375    1991\n",
       "271376    2004\n",
       "271377    1996\n",
       "271378    2000\n",
       "Name: Year-Of-Publication, Length: 271117, dtype: int64"
      ]
     },
     "execution_count": 222,
     "metadata": {},
     "output_type": "execute_result"
    }
   ],
   "source": [
    "books['Year-Of-Publication'].astype('int64')"
   ]
  },
  {
   "cell_type": "code",
   "execution_count": 223,
   "metadata": {},
   "outputs": [
    {
     "data": {
      "text/plain": [
       "ISBN                   object\n",
       "Book-Title             object\n",
       "Book-Author            object\n",
       "Year-Of-Publication     int64\n",
       "Publisher              object\n",
       "Image-URL-S            object\n",
       "Image-URL-M            object\n",
       "Image-URL-L            object\n",
       "dtype: object"
      ]
     },
     "execution_count": 223,
     "metadata": {},
     "output_type": "execute_result"
    }
   ],
   "source": [
    "books['Year-Of-Publication'] = pd.to_numeric(books['Year-Of-Publication'])\n",
    "books.dtypes"
   ]
  },
  {
   "cell_type": "code",
   "execution_count": 224,
   "metadata": {},
   "outputs": [],
   "source": [
    "indexZeros = books[ books['Year-Of-Publication'] == 0 ].index\n",
    "books.drop(indexZeros , inplace=True)"
   ]
  },
  {
   "cell_type": "code",
   "execution_count": 225,
   "metadata": {},
   "outputs": [],
   "source": [
    "indexYear = books[ books['Year-Of-Publication'] > 2020 ].index\n",
    "books.drop(indexYear , inplace=True)"
   ]
  },
  {
   "cell_type": "markdown",
   "metadata": {},
   "source": [
    "### Augment data with additional columns"
   ]
  },
  {
   "cell_type": "markdown",
   "metadata": {},
   "source": [
    "##### Add Country column in users data"
   ]
  },
  {
   "cell_type": "code",
   "execution_count": 226,
   "metadata": {},
   "outputs": [
    {
     "data": {
      "text/html": [
       "<div>\n",
       "<style scoped>\n",
       "    .dataframe tbody tr th:only-of-type {\n",
       "        vertical-align: middle;\n",
       "    }\n",
       "\n",
       "    .dataframe tbody tr th {\n",
       "        vertical-align: top;\n",
       "    }\n",
       "\n",
       "    .dataframe thead th {\n",
       "        text-align: right;\n",
       "    }\n",
       "</style>\n",
       "<table border=\"1\" class=\"dataframe\">\n",
       "  <thead>\n",
       "    <tr style=\"text-align: right;\">\n",
       "      <th></th>\n",
       "      <th>User-ID</th>\n",
       "      <th>Location</th>\n",
       "      <th>Age</th>\n",
       "      <th>Country</th>\n",
       "    </tr>\n",
       "  </thead>\n",
       "  <tbody>\n",
       "    <tr>\n",
       "      <th>0</th>\n",
       "      <td>1</td>\n",
       "      <td>nyc, new york, usa</td>\n",
       "      <td>NaN</td>\n",
       "      <td>usa</td>\n",
       "    </tr>\n",
       "    <tr>\n",
       "      <th>1</th>\n",
       "      <td>2</td>\n",
       "      <td>stockton, california, usa</td>\n",
       "      <td>18</td>\n",
       "      <td>usa</td>\n",
       "    </tr>\n",
       "    <tr>\n",
       "      <th>2</th>\n",
       "      <td>3</td>\n",
       "      <td>moscow, yukon territory, russia</td>\n",
       "      <td>NaN</td>\n",
       "      <td>russia</td>\n",
       "    </tr>\n",
       "    <tr>\n",
       "      <th>3</th>\n",
       "      <td>4</td>\n",
       "      <td>porto, v.n.gaia, portugal</td>\n",
       "      <td>17</td>\n",
       "      <td>portugal</td>\n",
       "    </tr>\n",
       "    <tr>\n",
       "      <th>4</th>\n",
       "      <td>5</td>\n",
       "      <td>farnborough, hants, united kingdom</td>\n",
       "      <td>NaN</td>\n",
       "      <td>united kingdom</td>\n",
       "    </tr>\n",
       "  </tbody>\n",
       "</table>\n",
       "</div>"
      ],
      "text/plain": [
       "   User-ID                            Location  Age          Country\n",
       "0        1                  nyc, new york, usa  NaN              usa\n",
       "1        2           stockton, california, usa   18              usa\n",
       "2        3     moscow, yukon territory, russia  NaN           russia\n",
       "3        4           porto, v.n.gaia, portugal   17         portugal\n",
       "4        5  farnborough, hants, united kingdom  NaN   united kingdom"
      ]
     },
     "execution_count": 226,
     "metadata": {},
     "output_type": "execute_result"
    }
   ],
   "source": [
    "users['Country']=users['Location'].str.split(',').str[2]\n",
    "users['Country']=users['Country'].astype('str')\n",
    "users.head()"
   ]
  },
  {
   "cell_type": "code",
   "execution_count": null,
   "metadata": {},
   "outputs": [],
   "source": []
  },
  {
   "cell_type": "markdown",
   "metadata": {},
   "source": [
    "### Analysis"
   ]
  },
  {
   "cell_type": "markdown",
   "metadata": {},
   "source": [
    "#### Question 1: Which publisher has the least books?"
   ]
  },
  {
   "cell_type": "code",
   "execution_count": 227,
   "metadata": {},
   "outputs": [
    {
     "name": "stdout",
     "output_type": "stream",
     "text": [
      "Harlequin             7536\n",
      "Silhouette            4220\n",
      "Pocket                3868\n",
      "Ballantine Books      3761\n",
      "Bantam Books          3641\n",
      "                      ... \n",
      "Klopp                    1\n",
      "Tamarisk                 1\n",
      "Aegina Pr                1\n",
      "ORAFA Pub. Co            1\n",
      "NK Lawn and Garden       1\n",
      "Name: Publisher, Length: 16374, dtype: int64\n"
     ]
    }
   ],
   "source": [
    "publisher=books['Publisher'].value_counts()\n",
    "print(publisher)"
   ]
  },
  {
   "cell_type": "markdown",
   "metadata": {},
   "source": [
    "#### Question 2: Which year has maximum number of publicised books?"
   ]
  },
  {
   "cell_type": "code",
   "execution_count": 228,
   "metadata": {},
   "outputs": [
    {
     "name": "stdout",
     "output_type": "stream",
     "text": [
      "2002    17616\n",
      "1999    17416\n",
      "2001    17349\n",
      "2000    17223\n",
      "1998    15749\n",
      "        ...  \n",
      "1904        1\n",
      "2038        1\n",
      "1917        1\n",
      "1919        1\n",
      "1378        1\n",
      "Name: Year-Of-Publication, Length: 116, dtype: int64\n"
     ]
    }
   ],
   "source": [
    "year=b['Year-Of-Publication'].value_counts()\n",
    "print(year)"
   ]
  },
  {
   "cell_type": "markdown",
   "metadata": {},
   "source": [
    "#### Question 3: Which country has the most users?"
   ]
  },
  {
   "cell_type": "code",
   "execution_count": 229,
   "metadata": {},
   "outputs": [
    {
     "name": "stdout",
     "output_type": "stream",
     "text": [
      " usa               139184\n",
      " canada             21558\n",
      " united kingdom     18287\n",
      " germany            17022\n",
      " spain              13103\n",
      "                    ...  \n",
      " evil empire            1\n",
      " nh                     1\n",
      " algérie                1\n",
      " courtenay              1\n",
      " canarias               1\n",
      "Name: Country, Length: 1029, dtype: int64\n"
     ]
    }
   ],
   "source": [
    "country=users['Country'].value_counts()\n",
    "print(country)"
   ]
  },
  {
   "cell_type": "markdown",
   "metadata": {},
   "source": [
    "#### Question 4: Which books are Top 10? "
   ]
  },
  {
   "cell_type": "code",
   "execution_count": 230,
   "metadata": {},
   "outputs": [],
   "source": [
    "best_book=pd.merge(ratings, books, on='ISBN', how='inner')\n"
   ]
  },
  {
   "cell_type": "code",
   "execution_count": 231,
   "metadata": {},
   "outputs": [
    {
     "data": {
      "text/plain": [
       "Book-Title\n",
       "Orvis Fly Fishing Guide (Nick Lyons Books)                             10.0\n",
       "New Kid in School (Lizzie McGuire, #6)                                 10.0\n",
       "The Velveteen Rabbit (Creative Editions)                               10.0\n",
       "Ezra Nehemiah (Collegeville Bible Commentary Old Testament 11)         10.0\n",
       "New Improved!: Dykes to Watch Out for (Dykes to Watch Out for)         10.0\n",
       "Ezekiel, Daniel (Collegeville Bible Commentary. Old Testament ; 16)    10.0\n",
       "Eyewitness: Titanic                                                    10.0\n",
       "Eyewitness: Renaissance (Eyewitness Books)                             10.0\n",
       "Eyewitness: Music                                                      10.0\n",
       "Eyewitness: American Revolution (Eyewitness Books)                     10.0\n",
       "Name: Book-Rating, dtype: float64"
      ]
     },
     "execution_count": 231,
     "metadata": {},
     "output_type": "execute_result"
    }
   ],
   "source": [
    "x=best_book.groupby('Book-Title')['Book-Rating'].mean()\n",
    "sorted_data = x.sort_values( ascending=False)\n",
    "sorted_data.head(10)"
   ]
  },
  {
   "cell_type": "markdown",
   "metadata": {},
   "source": [
    "#### Question 5: Which publisher has the best books? (by book rating)"
   ]
  },
  {
   "cell_type": "code",
   "execution_count": 232,
   "metadata": {},
   "outputs": [
    {
     "data": {
      "text/plain": [
       "Publisher\n",
       " Editions P. Terrail    10.0\n",
       "Name: Book-Rating, dtype: float64"
      ]
     },
     "execution_count": 232,
     "metadata": {},
     "output_type": "execute_result"
    }
   ],
   "source": [
    "publisher=best_book.groupby('Publisher')['Book-Rating'].mean()\n",
    "sort_publishers=publisher.sort_values( ascending=False)\n",
    "sort_publishers.head(1)"
   ]
  },
  {
   "cell_type": "markdown",
   "metadata": {},
   "source": [
    "#### Question 6:Which centry has the most published books?"
   ]
  },
  {
   "cell_type": "code",
   "execution_count": 247,
   "metadata": {},
   "outputs": [
    {
     "data": {
      "text/html": [
       "<div>\n",
       "<style scoped>\n",
       "    .dataframe tbody tr th:only-of-type {\n",
       "        vertical-align: middle;\n",
       "    }\n",
       "\n",
       "    .dataframe tbody tr th {\n",
       "        vertical-align: top;\n",
       "    }\n",
       "\n",
       "    .dataframe thead th {\n",
       "        text-align: right;\n",
       "    }\n",
       "</style>\n",
       "<table border=\"1\" class=\"dataframe\">\n",
       "  <thead>\n",
       "    <tr style=\"text-align: right;\">\n",
       "      <th></th>\n",
       "      <th>ISBN</th>\n",
       "      <th>Book-Title</th>\n",
       "      <th>Book-Author</th>\n",
       "      <th>Year-Of-Publication</th>\n",
       "      <th>Publisher</th>\n",
       "      <th>Image-URL-S</th>\n",
       "      <th>Image-URL-M</th>\n",
       "      <th>Image-URL-L</th>\n",
       "    </tr>\n",
       "    <tr>\n",
       "      <th>Year-Of-Publication</th>\n",
       "      <th></th>\n",
       "      <th></th>\n",
       "      <th></th>\n",
       "      <th></th>\n",
       "      <th></th>\n",
       "      <th></th>\n",
       "      <th></th>\n",
       "      <th></th>\n",
       "    </tr>\n",
       "  </thead>\n",
       "  <tbody>\n",
       "    <tr>\n",
       "      <th>(1300, 1400]</th>\n",
       "      <td>2</td>\n",
       "      <td>2</td>\n",
       "      <td>2</td>\n",
       "      <td>2</td>\n",
       "      <td>2</td>\n",
       "      <td>2</td>\n",
       "      <td>2</td>\n",
       "      <td>2</td>\n",
       "    </tr>\n",
       "    <tr>\n",
       "      <th>(1400, 1500]</th>\n",
       "      <td>0</td>\n",
       "      <td>0</td>\n",
       "      <td>0</td>\n",
       "      <td>0</td>\n",
       "      <td>0</td>\n",
       "      <td>0</td>\n",
       "      <td>0</td>\n",
       "      <td>0</td>\n",
       "    </tr>\n",
       "    <tr>\n",
       "      <th>(1500, 1600]</th>\n",
       "      <td>0</td>\n",
       "      <td>0</td>\n",
       "      <td>0</td>\n",
       "      <td>0</td>\n",
       "      <td>0</td>\n",
       "      <td>0</td>\n",
       "      <td>0</td>\n",
       "      <td>0</td>\n",
       "    </tr>\n",
       "    <tr>\n",
       "      <th>(1600, 1700]</th>\n",
       "      <td>0</td>\n",
       "      <td>0</td>\n",
       "      <td>0</td>\n",
       "      <td>0</td>\n",
       "      <td>0</td>\n",
       "      <td>0</td>\n",
       "      <td>0</td>\n",
       "      <td>0</td>\n",
       "    </tr>\n",
       "    <tr>\n",
       "      <th>(1700, 1800]</th>\n",
       "      <td>0</td>\n",
       "      <td>0</td>\n",
       "      <td>0</td>\n",
       "      <td>0</td>\n",
       "      <td>0</td>\n",
       "      <td>0</td>\n",
       "      <td>0</td>\n",
       "      <td>0</td>\n",
       "    </tr>\n",
       "    <tr>\n",
       "      <th>(1800, 1900]</th>\n",
       "      <td>5</td>\n",
       "      <td>5</td>\n",
       "      <td>5</td>\n",
       "      <td>5</td>\n",
       "      <td>5</td>\n",
       "      <td>5</td>\n",
       "      <td>5</td>\n",
       "      <td>5</td>\n",
       "    </tr>\n",
       "    <tr>\n",
       "      <th>(1900, 2000]</th>\n",
       "      <td>211281</td>\n",
       "      <td>211281</td>\n",
       "      <td>211280</td>\n",
       "      <td>211281</td>\n",
       "      <td>211281</td>\n",
       "      <td>211281</td>\n",
       "      <td>211281</td>\n",
       "      <td>211270</td>\n",
       "    </tr>\n",
       "  </tbody>\n",
       "</table>\n",
       "</div>"
      ],
      "text/plain": [
       "                       ISBN  Book-Title  Book-Author  Year-Of-Publication  \\\n",
       "Year-Of-Publication                                                         \n",
       "(1300, 1400]              2           2            2                    2   \n",
       "(1400, 1500]              0           0            0                    0   \n",
       "(1500, 1600]              0           0            0                    0   \n",
       "(1600, 1700]              0           0            0                    0   \n",
       "(1700, 1800]              0           0            0                    0   \n",
       "(1800, 1900]              5           5            5                    5   \n",
       "(1900, 2000]         211281      211281       211280               211281   \n",
       "\n",
       "                     Publisher  Image-URL-S  Image-URL-M  Image-URL-L  \n",
       "Year-Of-Publication                                                    \n",
       "(1300, 1400]                 2            2            2            2  \n",
       "(1400, 1500]                 0            0            0            0  \n",
       "(1500, 1600]                 0            0            0            0  \n",
       "(1600, 1700]                 0            0            0            0  \n",
       "(1700, 1800]                 0            0            0            0  \n",
       "(1800, 1900]                 5            5            5            5  \n",
       "(1900, 2000]            211281       211281       211281       211270  "
      ]
     },
     "execution_count": 247,
     "metadata": {},
     "output_type": "execute_result"
    }
   ],
   "source": [
    "centry=books.groupby(pd.cut(books['Year-Of-Publication'], np.arange(1300,2020,100))).count()\n",
    "centry"
   ]
  },
  {
   "cell_type": "code",
   "execution_count": null,
   "metadata": {},
   "outputs": [],
   "source": []
  },
  {
   "cell_type": "code",
   "execution_count": 294,
   "metadata": {},
   "outputs": [
    {
     "data": {
      "text/plain": [
       "Text(0, 0.5, 'Number of books')"
      ]
     },
     "execution_count": 294,
     "metadata": {},
     "output_type": "execute_result"
    },
    {
     "data": {
      "image/png": "[encoded data removed]",
      "text/plain": [
       "<Figure size 576x576 with 1 Axes>"
      ]
     },
     "metadata": {
      "needs_background": "light"
     },
     "output_type": "display_data"
    }
   ],
   "source": [
    "centries=['1300', '1400', '1500', '1600', '1700', '1800', '1900', '2000']\n",
    "ax = centry.plot(kind='bar', legend=False, color='blue',figsize=(8,8))\n",
    "ax.set_title('Number of publicised books per centry')\n",
    "ax.set_xlabel('Centry')\n",
    "ax.set_ylabel('Number of books')"
   ]
  },
  {
   "cell_type": "markdown",
   "metadata": {},
   "source": [
    "#### Question 7: Number of publicised books by publisher - ranged top 15 publishers\n",
    "\n"
   ]
  },
  {
   "cell_type": "code",
   "execution_count": 295,
   "metadata": {},
   "outputs": [],
   "source": [
    "publ = books.groupby(['Publisher'])\n",
    "p = publ['Book-Title'].count().sort_values()\n",
    "p = p.tail(15)"
   ]
  },
  {
   "cell_type": "code",
   "execution_count": 296,
   "metadata": {},
   "outputs": [
    {
     "data": {
      "text/plain": [
       "Text(0, 0.5, 'Number of books')"
      ]
     },
     "execution_count": 296,
     "metadata": {},
     "output_type": "execute_result"
    },
    {
     "data": {
      "image/png": "[encoded data removed]",
      "text/plain": [
       "<Figure size 864x576 with 1 Axes>"
      ]
     },
     "metadata": {
      "needs_background": "light"
     },
     "output_type": "display_data"
    }
   ],
   "source": [
    "plt.figure(figsize=(12, 8))\n",
    "ax = p.plot(kind='bar')\n",
    "ax.set_title('Number of publicised books by publisher')\n",
    "ax.set_xlabel('Publishers')\n",
    "ax.set_ylabel('Number of books')"
   ]
  },
  {
   "cell_type": "code",
   "execution_count": null,
   "metadata": {},
   "outputs": [],
   "source": []
  },
  {
   "cell_type": "code",
   "execution_count": null,
   "metadata": {},
   "outputs": [],
   "source": []
  },
  {
   "cell_type": "code",
   "execution_count": null,
   "metadata": {},
   "outputs": [],
   "source": []
  },
  {
   "cell_type": "code",
   "execution_count": null,
   "metadata": {},
   "outputs": [],
   "source": []
  }
 ],
 "metadata": {
  "kernelspec": {
   "display_name": "Python 3",
   "language": "python",
   "name": "python3"
  },
  "language_info": {
   "codemirror_mode": {
    "name": "ipython",
    "version": 3
   },
   "file_extension": ".py",
   "mimetype": "text/x-python",
   "name": "python",
   "nbconvert_exporter": "python",
   "pygments_lexer": "ipython3",
   "version": "3.8.3"
  }
 },
 "nbformat": 4,
 "nbformat_minor": 4
}
