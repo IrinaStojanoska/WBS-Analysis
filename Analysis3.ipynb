{
 "cells": [
  {
   "cell_type": "markdown",
   "metadata": {},
   "source": [
    "### Import necessary libraries"
   ]
  },
  {
   "cell_type": "code",
   "execution_count": 68,
   "metadata": {},
   "outputs": [],
   "source": [
    "import pandas as pd"
   ]
  },
  {
   "cell_type": "code",
   "execution_count": 69,
   "metadata": {},
   "outputs": [],
   "source": [
    "import numpy as np"
   ]
  },
  {
   "cell_type": "code",
   "execution_count": 70,
   "metadata": {},
   "outputs": [],
   "source": [
    "import matplotlib.pyplot as plt"
   ]
  },
  {
   "cell_type": "code",
   "execution_count": 71,
   "metadata": {},
   "outputs": [],
   "source": [
    "import seaborn as sns"
   ]
  },
  {
   "cell_type": "markdown",
   "metadata": {},
   "source": [
    "## Task1:  Read the data and clean up"
   ]
  },
  {
   "cell_type": "markdown",
   "metadata": {},
   "source": [
    "#### Read books"
   ]
  },
  {
   "cell_type": "code",
   "execution_count": 72,
   "metadata": {
    "scrolled": true
   },
   "outputs": [
    {
     "data": {
      "text/html": [
       "<div>\n",
       "<style scoped>\n",
       "    .dataframe tbody tr th:only-of-type {\n",
       "        vertical-align: middle;\n",
       "    }\n",
       "\n",
       "    .dataframe tbody tr th {\n",
       "        vertical-align: top;\n",
       "    }\n",
       "\n",
       "    .dataframe thead th {\n",
       "        text-align: right;\n",
       "    }\n",
       "</style>\n",
       "<table border=\"1\" class=\"dataframe\">\n",
       "  <thead>\n",
       "    <tr style=\"text-align: right;\">\n",
       "      <th></th>\n",
       "      <th>ISBN</th>\n",
       "      <th>Book-Title</th>\n",
       "      <th>Book-Author</th>\n",
       "      <th>Year-Of-Publication</th>\n",
       "      <th>Publisher</th>\n",
       "      <th>Image-URL-S</th>\n",
       "      <th>Image-URL-M</th>\n",
       "      <th>Image-URL-L</th>\n",
       "      <th>Unnamed: 8</th>\n",
       "      <th>Unnamed: 9</th>\n",
       "      <th>Unnamed: 10</th>\n",
       "      <th>Unnamed: 11</th>\n",
       "    </tr>\n",
       "  </thead>\n",
       "  <tbody>\n",
       "    <tr>\n",
       "      <th>0</th>\n",
       "      <td>0195153448</td>\n",
       "      <td>Classical Mythology</td>\n",
       "      <td>Mark P. O. Morford</td>\n",
       "      <td>2002</td>\n",
       "      <td>Oxford University Press</td>\n",
       "      <td>http://images.amazon.com/images/P/0195153448.0...</td>\n",
       "      <td>http://images.amazon.com/images/P/0195153448.0...</td>\n",
       "      <td>http://images.amazon.com/images/P/0195153448.0...</td>\n",
       "      <td>NaN</td>\n",
       "      <td>NaN</td>\n",
       "      <td>NaN</td>\n",
       "      <td>NaN</td>\n",
       "    </tr>\n",
       "    <tr>\n",
       "      <th>1</th>\n",
       "      <td>0002005018</td>\n",
       "      <td>Clara Callan</td>\n",
       "      <td>Richard Bruce Wright</td>\n",
       "      <td>2001</td>\n",
       "      <td>HarperFlamingo Canada</td>\n",
       "      <td>http://images.amazon.com/images/P/0002005018.0...</td>\n",
       "      <td>http://images.amazon.com/images/P/0002005018.0...</td>\n",
       "      <td>http://images.amazon.com/images/P/0002005018.0...</td>\n",
       "      <td>NaN</td>\n",
       "      <td>NaN</td>\n",
       "      <td>NaN</td>\n",
       "      <td>NaN</td>\n",
       "    </tr>\n",
       "    <tr>\n",
       "      <th>2</th>\n",
       "      <td>0060973129</td>\n",
       "      <td>Decision in Normandy</td>\n",
       "      <td>Carlo D'Este</td>\n",
       "      <td>1991</td>\n",
       "      <td>HarperPerennial</td>\n",
       "      <td>http://images.amazon.com/images/P/0060973129.0...</td>\n",
       "      <td>http://images.amazon.com/images/P/0060973129.0...</td>\n",
       "      <td>http://images.amazon.com/images/P/0060973129.0...</td>\n",
       "      <td>NaN</td>\n",
       "      <td>NaN</td>\n",
       "      <td>NaN</td>\n",
       "      <td>NaN</td>\n",
       "    </tr>\n",
       "    <tr>\n",
       "      <th>3</th>\n",
       "      <td>0374157065</td>\n",
       "      <td>Flu: The Story of the Great Influenza Pandemic...</td>\n",
       "      <td>Gina Bari Kolata</td>\n",
       "      <td>1999</td>\n",
       "      <td>Farrar Straus Giroux</td>\n",
       "      <td>http://images.amazon.com/images/P/0374157065.0...</td>\n",
       "      <td>http://images.amazon.com/images/P/0374157065.0...</td>\n",
       "      <td>http://images.amazon.com/images/P/0374157065.0...</td>\n",
       "      <td>NaN</td>\n",
       "      <td>NaN</td>\n",
       "      <td>NaN</td>\n",
       "      <td>NaN</td>\n",
       "    </tr>\n",
       "    <tr>\n",
       "      <th>4</th>\n",
       "      <td>0393045218</td>\n",
       "      <td>The Mummies of Urumchi</td>\n",
       "      <td>E. J. W. Barber</td>\n",
       "      <td>1999</td>\n",
       "      <td>W. W. Norton &amp;amp; Company</td>\n",
       "      <td>http://images.amazon.com/images/P/0393045218.0...</td>\n",
       "      <td>http://images.amazon.com/images/P/0393045218.0...</td>\n",
       "      <td>http://images.amazon.com/images/P/0393045218.0...</td>\n",
       "      <td>NaN</td>\n",
       "      <td>NaN</td>\n",
       "      <td>NaN</td>\n",
       "      <td>NaN</td>\n",
       "    </tr>\n",
       "  </tbody>\n",
       "</table>\n",
       "</div>"
      ],
      "text/plain": [
       "         ISBN                                         Book-Title  \\\n",
       "0  0195153448                                Classical Mythology   \n",
       "1  0002005018                                       Clara Callan   \n",
       "2  0060973129                               Decision in Normandy   \n",
       "3  0374157065  Flu: The Story of the Great Influenza Pandemic...   \n",
       "4  0393045218                             The Mummies of Urumchi   \n",
       "\n",
       "            Book-Author Year-Of-Publication                   Publisher  \\\n",
       "0    Mark P. O. Morford                2002     Oxford University Press   \n",
       "1  Richard Bruce Wright                2001       HarperFlamingo Canada   \n",
       "2          Carlo D'Este                1991             HarperPerennial   \n",
       "3      Gina Bari Kolata                1999        Farrar Straus Giroux   \n",
       "4       E. J. W. Barber                1999  W. W. Norton &amp; Company   \n",
       "\n",
       "                                         Image-URL-S  \\\n",
       "0  http://images.amazon.com/images/P/0195153448.0...   \n",
       "1  http://images.amazon.com/images/P/0002005018.0...   \n",
       "2  http://images.amazon.com/images/P/0060973129.0...   \n",
       "3  http://images.amazon.com/images/P/0374157065.0...   \n",
       "4  http://images.amazon.com/images/P/0393045218.0...   \n",
       "\n",
       "                                         Image-URL-M  \\\n",
       "0  http://images.amazon.com/images/P/0195153448.0...   \n",
       "1  http://images.amazon.com/images/P/0002005018.0...   \n",
       "2  http://images.amazon.com/images/P/0060973129.0...   \n",
       "3  http://images.amazon.com/images/P/0374157065.0...   \n",
       "4  http://images.amazon.com/images/P/0393045218.0...   \n",
       "\n",
       "                                         Image-URL-L Unnamed: 8 Unnamed: 9  \\\n",
       "0  http://images.amazon.com/images/P/0195153448.0...        NaN        NaN   \n",
       "1  http://images.amazon.com/images/P/0002005018.0...        NaN        NaN   \n",
       "2  http://images.amazon.com/images/P/0060973129.0...        NaN        NaN   \n",
       "3  http://images.amazon.com/images/P/0374157065.0...        NaN        NaN   \n",
       "4  http://images.amazon.com/images/P/0393045218.0...        NaN        NaN   \n",
       "\n",
       "  Unnamed: 10 Unnamed: 11  \n",
       "0         NaN         NaN  \n",
       "1         NaN         NaN  \n",
       "2         NaN         NaN  \n",
       "3         NaN         NaN  \n",
       "4         NaN         NaN  "
      ]
     },
     "execution_count": 72,
     "metadata": {},
     "output_type": "execute_result"
    }
   ],
   "source": [
    "books=pd.read_csv(\"./Data/Book_reviews/BX-Books.csv\", engine=\"python\", sep=',', quotechar='\"' )\n",
    "books.head()"
   ]
  },
  {
   "cell_type": "markdown",
   "metadata": {},
   "source": [
    "#### Read users"
   ]
  },
  {
   "cell_type": "code",
   "execution_count": 73,
   "metadata": {},
   "outputs": [
    {
     "data": {
      "text/html": [
       "<div>\n",
       "<style scoped>\n",
       "    .dataframe tbody tr th:only-of-type {\n",
       "        vertical-align: middle;\n",
       "    }\n",
       "\n",
       "    .dataframe tbody tr th {\n",
       "        vertical-align: top;\n",
       "    }\n",
       "\n",
       "    .dataframe thead th {\n",
       "        text-align: right;\n",
       "    }\n",
       "</style>\n",
       "<table border=\"1\" class=\"dataframe\">\n",
       "  <thead>\n",
       "    <tr style=\"text-align: right;\">\n",
       "      <th></th>\n",
       "      <th>User-ID</th>\n",
       "      <th>Location</th>\n",
       "      <th>Age</th>\n",
       "      <th>Unnamed: 3</th>\n",
       "      <th>Unnamed: 4</th>\n",
       "      <th>Unnamed: 5</th>\n",
       "    </tr>\n",
       "  </thead>\n",
       "  <tbody>\n",
       "    <tr>\n",
       "      <th>0</th>\n",
       "      <td>1</td>\n",
       "      <td>nyc, new york, usa</td>\n",
       "      <td>NaN</td>\n",
       "      <td>NaN</td>\n",
       "      <td>NaN</td>\n",
       "      <td>NaN</td>\n",
       "    </tr>\n",
       "    <tr>\n",
       "      <th>1</th>\n",
       "      <td>2</td>\n",
       "      <td>stockton, california, usa</td>\n",
       "      <td>18</td>\n",
       "      <td>NaN</td>\n",
       "      <td>NaN</td>\n",
       "      <td>NaN</td>\n",
       "    </tr>\n",
       "    <tr>\n",
       "      <th>2</th>\n",
       "      <td>3</td>\n",
       "      <td>moscow, yukon territory, russia</td>\n",
       "      <td>NaN</td>\n",
       "      <td>NaN</td>\n",
       "      <td>NaN</td>\n",
       "      <td>NaN</td>\n",
       "    </tr>\n",
       "    <tr>\n",
       "      <th>3</th>\n",
       "      <td>4</td>\n",
       "      <td>porto, v.n.gaia, portugal</td>\n",
       "      <td>17</td>\n",
       "      <td>NaN</td>\n",
       "      <td>NaN</td>\n",
       "      <td>NaN</td>\n",
       "    </tr>\n",
       "    <tr>\n",
       "      <th>4</th>\n",
       "      <td>5</td>\n",
       "      <td>farnborough, hants, united kingdom</td>\n",
       "      <td>NaN</td>\n",
       "      <td>NaN</td>\n",
       "      <td>NaN</td>\n",
       "      <td>NaN</td>\n",
       "    </tr>\n",
       "  </tbody>\n",
       "</table>\n",
       "</div>"
      ],
      "text/plain": [
       "   User-ID                            Location  Age Unnamed: 3 Unnamed: 4  \\\n",
       "0        1                  nyc, new york, usa  NaN        NaN        NaN   \n",
       "1        2           stockton, california, usa   18        NaN        NaN   \n",
       "2        3     moscow, yukon territory, russia  NaN        NaN        NaN   \n",
       "3        4           porto, v.n.gaia, portugal   17        NaN        NaN   \n",
       "4        5  farnborough, hants, united kingdom  NaN        NaN        NaN   \n",
       "\n",
       "   Unnamed: 5  \n",
       "0         NaN  \n",
       "1         NaN  \n",
       "2         NaN  \n",
       "3         NaN  \n",
       "4         NaN  "
      ]
     },
     "execution_count": 73,
     "metadata": {},
     "output_type": "execute_result"
    }
   ],
   "source": [
    "users=pd.read_csv(\"./Data/Book_reviews/BX-Users.csv\", engine=\"python\", sep=',', quotechar='\"' )\n",
    "users.head()"
   ]
  },
  {
   "cell_type": "markdown",
   "metadata": {},
   "source": [
    "#### Read ratings"
   ]
  },
  {
   "cell_type": "code",
   "execution_count": 74,
   "metadata": {},
   "outputs": [
    {
     "data": {
      "text/html": [
       "<div>\n",
       "<style scoped>\n",
       "    .dataframe tbody tr th:only-of-type {\n",
       "        vertical-align: middle;\n",
       "    }\n",
       "\n",
       "    .dataframe tbody tr th {\n",
       "        vertical-align: top;\n",
       "    }\n",
       "\n",
       "    .dataframe thead th {\n",
       "        text-align: right;\n",
       "    }\n",
       "</style>\n",
       "<table border=\"1\" class=\"dataframe\">\n",
       "  <thead>\n",
       "    <tr style=\"text-align: right;\">\n",
       "      <th></th>\n",
       "      <th>User-ID</th>\n",
       "      <th>ISBN</th>\n",
       "      <th>Book-Rating</th>\n",
       "    </tr>\n",
       "  </thead>\n",
       "  <tbody>\n",
       "    <tr>\n",
       "      <th>0</th>\n",
       "      <td>276725</td>\n",
       "      <td>034545104X</td>\n",
       "      <td>0.0</td>\n",
       "    </tr>\n",
       "    <tr>\n",
       "      <th>1</th>\n",
       "      <td>276726</td>\n",
       "      <td>0155061224</td>\n",
       "      <td>5.0</td>\n",
       "    </tr>\n",
       "    <tr>\n",
       "      <th>2</th>\n",
       "      <td>276727</td>\n",
       "      <td>0446520802</td>\n",
       "      <td>0.0</td>\n",
       "    </tr>\n",
       "    <tr>\n",
       "      <th>3</th>\n",
       "      <td>276729</td>\n",
       "      <td>052165615X</td>\n",
       "      <td>3.0</td>\n",
       "    </tr>\n",
       "    <tr>\n",
       "      <th>4</th>\n",
       "      <td>276729</td>\n",
       "      <td>0521795028</td>\n",
       "      <td>6.0</td>\n",
       "    </tr>\n",
       "  </tbody>\n",
       "</table>\n",
       "</div>"
      ],
      "text/plain": [
       "   User-ID        ISBN  Book-Rating\n",
       "0   276725  034545104X          0.0\n",
       "1   276726  0155061224          5.0\n",
       "2   276727  0446520802          0.0\n",
       "3   276729  052165615X          3.0\n",
       "4   276729  0521795028          6.0"
      ]
     },
     "execution_count": 74,
     "metadata": {},
     "output_type": "execute_result"
    }
   ],
   "source": [
    "ratings=pd.read_csv(\"./Data/Book_reviews/BX-Book-Ratings.csv\", engine=\"python\", sep=',', quotechar='\"' )\n",
    "ratings.head()"
   ]
  },
  {
   "cell_type": "markdown",
   "metadata": {},
   "source": [
    "#### Table cleaning"
   ]
  },
  {
   "cell_type": "code",
   "execution_count": 75,
   "metadata": {
    "scrolled": true
   },
   "outputs": [
    {
     "name": "stdout",
     "output_type": "stream",
     "text": [
      "        User-ID                            Location  Age\n",
      "0             1                  nyc, new york, usa  NaN\n",
      "1             2           stockton, california, usa   18\n",
      "2             3     moscow, yukon territory, russia  NaN\n",
      "3             4           porto, v.n.gaia, portugal   17\n",
      "4             5  farnborough, hants, united kingdom  NaN\n",
      "...         ...                                 ...  ...\n",
      "278846   278854               portland, oregon, usa  NaN\n",
      "278847   278855  tacoma, washington, united kingdom   50\n",
      "278848   278856           brampton, ontario, canada  NaN\n",
      "278849   278857           knoxville, tennessee, usa  NaN\n",
      "278850   278858                dublin, n/a, ireland  NaN\n",
      "\n",
      "[278851 rows x 3 columns]\n"
     ]
    }
   ],
   "source": [
    "users = users.drop(['Unnamed: 3', 'Unnamed: 4', 'Unnamed: 5'], axis=1)\n",
    "print(users)"
   ]
  },
  {
   "cell_type": "code",
   "execution_count": 76,
   "metadata": {},
   "outputs": [
    {
     "name": "stdout",
     "output_type": "stream",
     "text": [
      "              ISBN                                         Book-Title  \\\n",
      "0       0195153448                                Classical Mythology   \n",
      "1       0002005018                                       Clara Callan   \n",
      "2       0060973129                               Decision in Normandy   \n",
      "3       0374157065  Flu: The Story of the Great Influenza Pandemic...   \n",
      "4       0393045218                             The Mummies of Urumchi   \n",
      "...            ...                                                ...   \n",
      "271374  0440400988                         There's a Bat in Bunk Five   \n",
      "271375  0525447644                            From One to One Hundred   \n",
      "271376  006008667X  Lily Dale : The True Story of the Town that Ta...   \n",
      "271377  0192126040                        Republic (World's Classics)   \n",
      "271378  0767409752  A Guided Tour of Rene Descartes' Meditations o...   \n",
      "\n",
      "                 Book-Author Year-Of-Publication  \\\n",
      "0         Mark P. O. Morford                2002   \n",
      "1       Richard Bruce Wright                2001   \n",
      "2               Carlo D'Este                1991   \n",
      "3           Gina Bari Kolata                1999   \n",
      "4            E. J. W. Barber                1999   \n",
      "...                      ...                 ...   \n",
      "271374        Paula Danziger                1988   \n",
      "271375            Teri Sloat                1991   \n",
      "271376      Christine Wicker                2004   \n",
      "271377                 Plato                1996   \n",
      "271378   Christopher  Biffle                2000   \n",
      "\n",
      "                                               Publisher  \\\n",
      "0                                Oxford University Press   \n",
      "1                                  HarperFlamingo Canada   \n",
      "2                                        HarperPerennial   \n",
      "3                                   Farrar Straus Giroux   \n",
      "4                             W. W. Norton &amp; Company   \n",
      "...                                                  ...   \n",
      "271374                   Random House Childrens Pub (Mm)   \n",
      "271375                                      Dutton Books   \n",
      "271376                                HarperSanFrancisco   \n",
      "271377                           Oxford University Press   \n",
      "271378  McGraw-Hill Humanities/Social Sciences/Languages   \n",
      "\n",
      "                                              Image-URL-S  \\\n",
      "0       http://images.amazon.com/images/P/0195153448.0...   \n",
      "1       http://images.amazon.com/images/P/0002005018.0...   \n",
      "2       http://images.amazon.com/images/P/0060973129.0...   \n",
      "3       http://images.amazon.com/images/P/0374157065.0...   \n",
      "4       http://images.amazon.com/images/P/0393045218.0...   \n",
      "...                                                   ...   \n",
      "271374  http://images.amazon.com/images/P/0440400988.0...   \n",
      "271375  http://images.amazon.com/images/P/0525447644.0...   \n",
      "271376  http://images.amazon.com/images/P/006008667X.0...   \n",
      "271377  http://images.amazon.com/images/P/0192126040.0...   \n",
      "271378  http://images.amazon.com/images/P/0767409752.0...   \n",
      "\n",
      "                                              Image-URL-M  \\\n",
      "0       http://images.amazon.com/images/P/0195153448.0...   \n",
      "1       http://images.amazon.com/images/P/0002005018.0...   \n",
      "2       http://images.amazon.com/images/P/0060973129.0...   \n",
      "3       http://images.amazon.com/images/P/0374157065.0...   \n",
      "4       http://images.amazon.com/images/P/0393045218.0...   \n",
      "...                                                   ...   \n",
      "271374  http://images.amazon.com/images/P/0440400988.0...   \n",
      "271375  http://images.amazon.com/images/P/0525447644.0...   \n",
      "271376  http://images.amazon.com/images/P/006008667X.0...   \n",
      "271377  http://images.amazon.com/images/P/0192126040.0...   \n",
      "271378  http://images.amazon.com/images/P/0767409752.0...   \n",
      "\n",
      "                                              Image-URL-L  \n",
      "0       http://images.amazon.com/images/P/0195153448.0...  \n",
      "1       http://images.amazon.com/images/P/0002005018.0...  \n",
      "2       http://images.amazon.com/images/P/0060973129.0...  \n",
      "3       http://images.amazon.com/images/P/0374157065.0...  \n",
      "4       http://images.amazon.com/images/P/0393045218.0...  \n",
      "...                                                   ...  \n",
      "271374  http://images.amazon.com/images/P/0440400988.0...  \n",
      "271375  http://images.amazon.com/images/P/0525447644.0...  \n",
      "271376  http://images.amazon.com/images/P/006008667X.0...  \n",
      "271377  http://images.amazon.com/images/P/0192126040.0...  \n",
      "271378  http://images.amazon.com/images/P/0767409752.0...  \n",
      "\n",
      "[271379 rows x 8 columns]\n"
     ]
    }
   ],
   "source": [
    "books = books.drop(['Unnamed: 8','Unnamed: 9','Unnamed: 10', 'Unnamed: 11'], axis=1)\n",
    "print(books)"
   ]
  },
  {
   "cell_type": "markdown",
   "metadata": {},
   "source": [
    "#### Cleaning from empty and wrong values"
   ]
  },
  {
   "cell_type": "code",
   "execution_count": 77,
   "metadata": {},
   "outputs": [],
   "source": [
    "ratings = ratings[(ratings[['Book-Rating']] != 0).all(axis=1)]"
   ]
  },
  {
   "cell_type": "code",
   "execution_count": 78,
   "metadata": {},
   "outputs": [],
   "source": [
    "indexes = books[books['Book-Author'].str.contains(r'[0-9]')==True].index\n",
    "books.drop(indexes, inplace=True, axis=0)"
   ]
  },
  {
   "cell_type": "code",
   "execution_count": 79,
   "metadata": {},
   "outputs": [],
   "source": [
    "indexes2 = books.index[books['Year-Of-Publication'].str.contains(r'[a-zA-Z]')==True]\n",
    "books.drop(indexes2, 0, inplace=True)"
   ]
  },
  {
   "cell_type": "code",
   "execution_count": 80,
   "metadata": {},
   "outputs": [
    {
     "data": {
      "text/html": [
       "<div>\n",
       "<style scoped>\n",
       "    .dataframe tbody tr th:only-of-type {\n",
       "        vertical-align: middle;\n",
       "    }\n",
       "\n",
       "    .dataframe tbody tr th {\n",
       "        vertical-align: top;\n",
       "    }\n",
       "\n",
       "    .dataframe thead th {\n",
       "        text-align: right;\n",
       "    }\n",
       "</style>\n",
       "<table border=\"1\" class=\"dataframe\">\n",
       "  <thead>\n",
       "    <tr style=\"text-align: right;\">\n",
       "      <th></th>\n",
       "      <th>User-ID</th>\n",
       "      <th>Location</th>\n",
       "      <th>Age</th>\n",
       "    </tr>\n",
       "  </thead>\n",
       "  <tbody>\n",
       "    <tr>\n",
       "      <th>1</th>\n",
       "      <td>2</td>\n",
       "      <td>stockton, california, usa</td>\n",
       "      <td>18</td>\n",
       "    </tr>\n",
       "    <tr>\n",
       "      <th>3</th>\n",
       "      <td>4</td>\n",
       "      <td>porto, v.n.gaia, portugal</td>\n",
       "      <td>17</td>\n",
       "    </tr>\n",
       "    <tr>\n",
       "      <th>5</th>\n",
       "      <td>6</td>\n",
       "      <td>santa monica, california, usa</td>\n",
       "      <td>61</td>\n",
       "    </tr>\n",
       "    <tr>\n",
       "      <th>9</th>\n",
       "      <td>10</td>\n",
       "      <td>albacete, wisconsin, spain</td>\n",
       "      <td>26</td>\n",
       "    </tr>\n",
       "    <tr>\n",
       "      <th>10</th>\n",
       "      <td>11</td>\n",
       "      <td>melbourne, victoria, australia</td>\n",
       "      <td>14</td>\n",
       "    </tr>\n",
       "    <tr>\n",
       "      <th>...</th>\n",
       "      <td>...</td>\n",
       "      <td>...</td>\n",
       "      <td>...</td>\n",
       "    </tr>\n",
       "    <tr>\n",
       "      <th>278841</th>\n",
       "      <td>278849</td>\n",
       "      <td>georgetown, ontario, canada</td>\n",
       "      <td>23</td>\n",
       "    </tr>\n",
       "    <tr>\n",
       "      <th>278843</th>\n",
       "      <td>278851</td>\n",
       "      <td>dallas, texas, usa</td>\n",
       "      <td>33</td>\n",
       "    </tr>\n",
       "    <tr>\n",
       "      <th>278844</th>\n",
       "      <td>278852</td>\n",
       "      <td>brisbane, queensland, australia</td>\n",
       "      <td>32</td>\n",
       "    </tr>\n",
       "    <tr>\n",
       "      <th>278845</th>\n",
       "      <td>278853</td>\n",
       "      <td>stranraer, n/a, united kingdom</td>\n",
       "      <td>17</td>\n",
       "    </tr>\n",
       "    <tr>\n",
       "      <th>278847</th>\n",
       "      <td>278855</td>\n",
       "      <td>tacoma, washington, united kingdom</td>\n",
       "      <td>50</td>\n",
       "    </tr>\n",
       "  </tbody>\n",
       "</table>\n",
       "<p>168322 rows × 3 columns</p>\n",
       "</div>"
      ],
      "text/plain": [
       "        User-ID                            Location Age\n",
       "1             2           stockton, california, usa  18\n",
       "3             4           porto, v.n.gaia, portugal  17\n",
       "5             6       santa monica, california, usa  61\n",
       "9            10          albacete, wisconsin, spain  26\n",
       "10           11      melbourne, victoria, australia  14\n",
       "...         ...                                 ...  ..\n",
       "278841   278849         georgetown, ontario, canada  23\n",
       "278843   278851                  dallas, texas, usa  33\n",
       "278844   278852     brisbane, queensland, australia  32\n",
       "278845   278853      stranraer, n/a, united kingdom  17\n",
       "278847   278855  tacoma, washington, united kingdom  50\n",
       "\n",
       "[168322 rows x 3 columns]"
      ]
     },
     "execution_count": 80,
     "metadata": {},
     "output_type": "execute_result"
    }
   ],
   "source": [
    "users.dropna(subset=['Age'], inplace=True)\n",
    "users"
   ]
  },
  {
   "cell_type": "code",
   "execution_count": 81,
   "metadata": {},
   "outputs": [],
   "source": [
    "i = users[users['Age'].str.contains('[a-zA-Z]')].index\n",
    "users.drop(i, 0, inplace=True)"
   ]
  },
  {
   "cell_type": "code",
   "execution_count": null,
   "metadata": {},
   "outputs": [],
   "source": []
  },
  {
   "cell_type": "code",
   "execution_count": 82,
   "metadata": {},
   "outputs": [],
   "source": [
    "users['Age'] = users['Age'].apply(lambda x: str(x).replace(';\"', '') if ';\"' in str(x) else str(x))"
   ]
  },
  {
   "cell_type": "code",
   "execution_count": null,
   "metadata": {},
   "outputs": [],
   "source": [
    "\n"
   ]
  },
  {
   "cell_type": "code",
   "execution_count": 83,
   "metadata": {},
   "outputs": [
    {
     "data": {
      "text/plain": [
       "0         2002\n",
       "1         2001\n",
       "2         1991\n",
       "3         1999\n",
       "4         1999\n",
       "          ... \n",
       "271374    1988\n",
       "271375    1991\n",
       "271376    2004\n",
       "271377    1996\n",
       "271378    2000\n",
       "Name: Year-Of-Publication, Length: 271117, dtype: int64"
      ]
     },
     "execution_count": 83,
     "metadata": {},
     "output_type": "execute_result"
    }
   ],
   "source": [
    "books['Year-Of-Publication'].astype('int64')"
   ]
  },
  {
   "cell_type": "code",
   "execution_count": 84,
   "metadata": {},
   "outputs": [
    {
     "data": {
      "text/plain": [
       "ISBN                   object\n",
       "Book-Title             object\n",
       "Book-Author            object\n",
       "Year-Of-Publication     int64\n",
       "Publisher              object\n",
       "Image-URL-S            object\n",
       "Image-URL-M            object\n",
       "Image-URL-L            object\n",
       "dtype: object"
      ]
     },
     "execution_count": 84,
     "metadata": {},
     "output_type": "execute_result"
    }
   ],
   "source": [
    "books['Year-Of-Publication'] = pd.to_numeric(books['Year-Of-Publication'])\n",
    "books.dtypes"
   ]
  },
  {
   "cell_type": "code",
   "execution_count": 85,
   "metadata": {},
   "outputs": [],
   "source": [
    "indexZeros = books[ books['Year-Of-Publication'] == 0 ].index\n",
    "books.drop(indexZeros , inplace=True)"
   ]
  },
  {
   "cell_type": "code",
   "execution_count": 86,
   "metadata": {},
   "outputs": [],
   "source": [
    "indexYear = books[ books['Year-Of-Publication'] > 2020 ].index\n",
    "books.drop(indexYear , inplace=True)"
   ]
  },
  {
   "cell_type": "markdown",
   "metadata": {},
   "source": [
    "#### Clean Location column of users table"
   ]
  },
  {
   "cell_type": "code",
   "execution_count": 87,
   "metadata": {},
   "outputs": [],
   "source": [
    "invalid_location = users[users['Location'].str.contains(r'&#|\\d')==True].index\n",
    "users.drop(invalid_location, inplace=True, axis=0)\n"
   ]
  },
  {
   "cell_type": "markdown",
   "metadata": {},
   "source": [
    "### Augment data with additional columns"
   ]
  },
  {
   "cell_type": "markdown",
   "metadata": {},
   "source": [
    "##### Add Country column in users data"
   ]
  },
  {
   "cell_type": "code",
   "execution_count": 88,
   "metadata": {},
   "outputs": [
    {
     "data": {
      "text/html": [
       "<div>\n",
       "<style scoped>\n",
       "    .dataframe tbody tr th:only-of-type {\n",
       "        vertical-align: middle;\n",
       "    }\n",
       "\n",
       "    .dataframe tbody tr th {\n",
       "        vertical-align: top;\n",
       "    }\n",
       "\n",
       "    .dataframe thead th {\n",
       "        text-align: right;\n",
       "    }\n",
       "</style>\n",
       "<table border=\"1\" class=\"dataframe\">\n",
       "  <thead>\n",
       "    <tr style=\"text-align: right;\">\n",
       "      <th></th>\n",
       "      <th>User-ID</th>\n",
       "      <th>Location</th>\n",
       "      <th>Age</th>\n",
       "      <th>Country</th>\n",
       "    </tr>\n",
       "  </thead>\n",
       "  <tbody>\n",
       "    <tr>\n",
       "      <th>1</th>\n",
       "      <td>2</td>\n",
       "      <td>stockton, california, usa</td>\n",
       "      <td>18</td>\n",
       "      <td>usa</td>\n",
       "    </tr>\n",
       "    <tr>\n",
       "      <th>3</th>\n",
       "      <td>4</td>\n",
       "      <td>porto, v.n.gaia, portugal</td>\n",
       "      <td>17</td>\n",
       "      <td>portugal</td>\n",
       "    </tr>\n",
       "    <tr>\n",
       "      <th>5</th>\n",
       "      <td>6</td>\n",
       "      <td>santa monica, california, usa</td>\n",
       "      <td>61</td>\n",
       "      <td>usa</td>\n",
       "    </tr>\n",
       "    <tr>\n",
       "      <th>9</th>\n",
       "      <td>10</td>\n",
       "      <td>albacete, wisconsin, spain</td>\n",
       "      <td>26</td>\n",
       "      <td>spain</td>\n",
       "    </tr>\n",
       "    <tr>\n",
       "      <th>10</th>\n",
       "      <td>11</td>\n",
       "      <td>melbourne, victoria, australia</td>\n",
       "      <td>14</td>\n",
       "      <td>australia</td>\n",
       "    </tr>\n",
       "  </tbody>\n",
       "</table>\n",
       "</div>"
      ],
      "text/plain": [
       "    User-ID                        Location Age     Country\n",
       "1         2       stockton, california, usa  18         usa\n",
       "3         4       porto, v.n.gaia, portugal  17    portugal\n",
       "5         6   santa monica, california, usa  61         usa\n",
       "9        10      albacete, wisconsin, spain  26       spain\n",
       "10       11  melbourne, victoria, australia  14   australia"
      ]
     },
     "execution_count": 88,
     "metadata": {},
     "output_type": "execute_result"
    }
   ],
   "source": [
    "users['Country']=users['Location'].str.split(',').str[2]\n",
    "users['Country']=users['Country'].astype('str')\n",
    "users.head()"
   ]
  },
  {
   "cell_type": "markdown",
   "metadata": {},
   "source": [
    "#### Add City column in users data"
   ]
  },
  {
   "cell_type": "code",
   "execution_count": 89,
   "metadata": {},
   "outputs": [
    {
     "data": {
      "text/html": [
       "<div>\n",
       "<style scoped>\n",
       "    .dataframe tbody tr th:only-of-type {\n",
       "        vertical-align: middle;\n",
       "    }\n",
       "\n",
       "    .dataframe tbody tr th {\n",
       "        vertical-align: top;\n",
       "    }\n",
       "\n",
       "    .dataframe thead th {\n",
       "        text-align: right;\n",
       "    }\n",
       "</style>\n",
       "<table border=\"1\" class=\"dataframe\">\n",
       "  <thead>\n",
       "    <tr style=\"text-align: right;\">\n",
       "      <th></th>\n",
       "      <th>User-ID</th>\n",
       "      <th>Location</th>\n",
       "      <th>Age</th>\n",
       "      <th>Country</th>\n",
       "      <th>City</th>\n",
       "    </tr>\n",
       "  </thead>\n",
       "  <tbody>\n",
       "    <tr>\n",
       "      <th>1</th>\n",
       "      <td>2</td>\n",
       "      <td>stockton, california, usa</td>\n",
       "      <td>18</td>\n",
       "      <td>usa</td>\n",
       "      <td>stockton</td>\n",
       "    </tr>\n",
       "    <tr>\n",
       "      <th>3</th>\n",
       "      <td>4</td>\n",
       "      <td>porto, v.n.gaia, portugal</td>\n",
       "      <td>17</td>\n",
       "      <td>portugal</td>\n",
       "      <td>porto</td>\n",
       "    </tr>\n",
       "    <tr>\n",
       "      <th>5</th>\n",
       "      <td>6</td>\n",
       "      <td>santa monica, california, usa</td>\n",
       "      <td>61</td>\n",
       "      <td>usa</td>\n",
       "      <td>santa monica</td>\n",
       "    </tr>\n",
       "    <tr>\n",
       "      <th>9</th>\n",
       "      <td>10</td>\n",
       "      <td>albacete, wisconsin, spain</td>\n",
       "      <td>26</td>\n",
       "      <td>spain</td>\n",
       "      <td>albacete</td>\n",
       "    </tr>\n",
       "    <tr>\n",
       "      <th>10</th>\n",
       "      <td>11</td>\n",
       "      <td>melbourne, victoria, australia</td>\n",
       "      <td>14</td>\n",
       "      <td>australia</td>\n",
       "      <td>melbourne</td>\n",
       "    </tr>\n",
       "  </tbody>\n",
       "</table>\n",
       "</div>"
      ],
      "text/plain": [
       "    User-ID                        Location Age     Country          City\n",
       "1         2       stockton, california, usa  18         usa      stockton\n",
       "3         4       porto, v.n.gaia, portugal  17    portugal         porto\n",
       "5         6   santa monica, california, usa  61         usa  santa monica\n",
       "9        10      albacete, wisconsin, spain  26       spain      albacete\n",
       "10       11  melbourne, victoria, australia  14   australia     melbourne"
      ]
     },
     "execution_count": 89,
     "metadata": {},
     "output_type": "execute_result"
    }
   ],
   "source": [
    "users['City']=users['Location'].str.split(',').str[0]\n",
    "users['City']=users['City'].astype('str')\n",
    "users.head()"
   ]
  },
  {
   "cell_type": "markdown",
   "metadata": {},
   "source": [
    "#### Filter cities"
   ]
  },
  {
   "cell_type": "code",
   "execution_count": 90,
   "metadata": {},
   "outputs": [],
   "source": [
    "invalid_location2 = users[~users['City'].str.contains(r'[a-zA-Z]')==True].index\n",
    "users.drop(invalid_location2, inplace=True, axis=0)"
   ]
  },
  {
   "cell_type": "markdown",
   "metadata": {},
   "source": [
    "#### Adding new column to books table - total number of books per author"
   ]
  },
  {
   "cell_type": "code",
   "execution_count": 91,
   "metadata": {},
   "outputs": [
    {
     "data": {
      "text/html": [
       "<div>\n",
       "<style scoped>\n",
       "    .dataframe tbody tr th:only-of-type {\n",
       "        vertical-align: middle;\n",
       "    }\n",
       "\n",
       "    .dataframe tbody tr th {\n",
       "        vertical-align: top;\n",
       "    }\n",
       "\n",
       "    .dataframe thead th {\n",
       "        text-align: right;\n",
       "    }\n",
       "</style>\n",
       "<table border=\"1\" class=\"dataframe\">\n",
       "  <thead>\n",
       "    <tr style=\"text-align: right;\">\n",
       "      <th></th>\n",
       "      <th>ISBN</th>\n",
       "      <th>Book-Title</th>\n",
       "      <th>Book-Author</th>\n",
       "      <th>Year-Of-Publication</th>\n",
       "      <th>Publisher</th>\n",
       "      <th>Image-URL-S</th>\n",
       "      <th>Image-URL-M</th>\n",
       "      <th>Image-URL-L</th>\n",
       "      <th>Total_num</th>\n",
       "    </tr>\n",
       "  </thead>\n",
       "  <tbody>\n",
       "    <tr>\n",
       "      <th>0</th>\n",
       "      <td>0195153448</td>\n",
       "      <td>Classical Mythology</td>\n",
       "      <td>Mark P. O. Morford</td>\n",
       "      <td>2002</td>\n",
       "      <td>Oxford University Press</td>\n",
       "      <td>http://images.amazon.com/images/P/0195153448.0...</td>\n",
       "      <td>http://images.amazon.com/images/P/0195153448.0...</td>\n",
       "      <td>http://images.amazon.com/images/P/0195153448.0...</td>\n",
       "      <td>2.0</td>\n",
       "    </tr>\n",
       "    <tr>\n",
       "      <th>1</th>\n",
       "      <td>0002005018</td>\n",
       "      <td>Clara Callan</td>\n",
       "      <td>Richard Bruce Wright</td>\n",
       "      <td>2001</td>\n",
       "      <td>HarperFlamingo Canada</td>\n",
       "      <td>http://images.amazon.com/images/P/0002005018.0...</td>\n",
       "      <td>http://images.amazon.com/images/P/0002005018.0...</td>\n",
       "      <td>http://images.amazon.com/images/P/0002005018.0...</td>\n",
       "      <td>2.0</td>\n",
       "    </tr>\n",
       "    <tr>\n",
       "      <th>2</th>\n",
       "      <td>0060973129</td>\n",
       "      <td>Decision in Normandy</td>\n",
       "      <td>Carlo D'Este</td>\n",
       "      <td>1991</td>\n",
       "      <td>HarperPerennial</td>\n",
       "      <td>http://images.amazon.com/images/P/0060973129.0...</td>\n",
       "      <td>http://images.amazon.com/images/P/0060973129.0...</td>\n",
       "      <td>http://images.amazon.com/images/P/0060973129.0...</td>\n",
       "      <td>3.0</td>\n",
       "    </tr>\n",
       "    <tr>\n",
       "      <th>3</th>\n",
       "      <td>0374157065</td>\n",
       "      <td>Flu: The Story of the Great Influenza Pandemic...</td>\n",
       "      <td>Gina Bari Kolata</td>\n",
       "      <td>1999</td>\n",
       "      <td>Farrar Straus Giroux</td>\n",
       "      <td>http://images.amazon.com/images/P/0374157065.0...</td>\n",
       "      <td>http://images.amazon.com/images/P/0374157065.0...</td>\n",
       "      <td>http://images.amazon.com/images/P/0374157065.0...</td>\n",
       "      <td>2.0</td>\n",
       "    </tr>\n",
       "    <tr>\n",
       "      <th>4</th>\n",
       "      <td>0393045218</td>\n",
       "      <td>The Mummies of Urumchi</td>\n",
       "      <td>E. J. W. Barber</td>\n",
       "      <td>1999</td>\n",
       "      <td>W. W. Norton &amp;amp; Company</td>\n",
       "      <td>http://images.amazon.com/images/P/0393045218.0...</td>\n",
       "      <td>http://images.amazon.com/images/P/0393045218.0...</td>\n",
       "      <td>http://images.amazon.com/images/P/0393045218.0...</td>\n",
       "      <td>1.0</td>\n",
       "    </tr>\n",
       "  </tbody>\n",
       "</table>\n",
       "</div>"
      ],
      "text/plain": [
       "         ISBN                                         Book-Title  \\\n",
       "0  0195153448                                Classical Mythology   \n",
       "1  0002005018                                       Clara Callan   \n",
       "2  0060973129                               Decision in Normandy   \n",
       "3  0374157065  Flu: The Story of the Great Influenza Pandemic...   \n",
       "4  0393045218                             The Mummies of Urumchi   \n",
       "\n",
       "            Book-Author  Year-Of-Publication                   Publisher  \\\n",
       "0    Mark P. O. Morford                 2002     Oxford University Press   \n",
       "1  Richard Bruce Wright                 2001       HarperFlamingo Canada   \n",
       "2          Carlo D'Este                 1991             HarperPerennial   \n",
       "3      Gina Bari Kolata                 1999        Farrar Straus Giroux   \n",
       "4       E. J. W. Barber                 1999  W. W. Norton &amp; Company   \n",
       "\n",
       "                                         Image-URL-S  \\\n",
       "0  http://images.amazon.com/images/P/0195153448.0...   \n",
       "1  http://images.amazon.com/images/P/0002005018.0...   \n",
       "2  http://images.amazon.com/images/P/0060973129.0...   \n",
       "3  http://images.amazon.com/images/P/0374157065.0...   \n",
       "4  http://images.amazon.com/images/P/0393045218.0...   \n",
       "\n",
       "                                         Image-URL-M  \\\n",
       "0  http://images.amazon.com/images/P/0195153448.0...   \n",
       "1  http://images.amazon.com/images/P/0002005018.0...   \n",
       "2  http://images.amazon.com/images/P/0060973129.0...   \n",
       "3  http://images.amazon.com/images/P/0374157065.0...   \n",
       "4  http://images.amazon.com/images/P/0393045218.0...   \n",
       "\n",
       "                                         Image-URL-L  Total_num  \n",
       "0  http://images.amazon.com/images/P/0195153448.0...        2.0  \n",
       "1  http://images.amazon.com/images/P/0002005018.0...        2.0  \n",
       "2  http://images.amazon.com/images/P/0060973129.0...        3.0  \n",
       "3  http://images.amazon.com/images/P/0374157065.0...        2.0  \n",
       "4  http://images.amazon.com/images/P/0393045218.0...        1.0  "
      ]
     },
     "execution_count": 91,
     "metadata": {},
     "output_type": "execute_result"
    }
   ],
   "source": [
    "books['Total_num']=books.groupby(by='Book-Author')['Book-Author'].transform('count')\n",
    "books.head()\n"
   ]
  },
  {
   "cell_type": "markdown",
   "metadata": {},
   "source": [
    "### Analysis"
   ]
  },
  {
   "cell_type": "markdown",
   "metadata": {},
   "source": [
    "#### Question 1: Which publisher has the least books?"
   ]
  },
  {
   "cell_type": "code",
   "execution_count": 92,
   "metadata": {},
   "outputs": [
    {
     "name": "stdout",
     "output_type": "stream",
     "text": [
      "Harlequin                   7536\n",
      "Silhouette                  4220\n",
      "Pocket                      3868\n",
      "Ballantine Books            3761\n",
      "Bantam Books                3641\n",
      "                            ... \n",
      "Gould Publications             1\n",
      "A Disney/Bantam Books          1\n",
      "KarToBi Publishing, Inc.       1\n",
      "ESP Publishing                 1\n",
      "Hawkmoon Publications          1\n",
      "Name: Publisher, Length: 16374, dtype: int64\n"
     ]
    }
   ],
   "source": [
    "publisher=books['Publisher'].value_counts()\n",
    "print(publisher)"
   ]
  },
  {
   "cell_type": "markdown",
   "metadata": {},
   "source": [
    "#### Question 2: Which year has maximum number of publicised books?"
   ]
  },
  {
   "cell_type": "code",
   "execution_count": 93,
   "metadata": {},
   "outputs": [
    {
     "name": "stdout",
     "output_type": "stream",
     "text": [
      "2002    17613\n",
      "1999    17416\n",
      "2001    17349\n",
      "2000    17222\n",
      "1998    15748\n",
      "        ...  \n",
      "2008        1\n",
      "1917        1\n",
      "1919        1\n",
      "2012        1\n",
      "1806        1\n",
      "Name: Year-Of-Publication, Length: 108, dtype: int64\n"
     ]
    }
   ],
   "source": [
    "year=books['Year-Of-Publication'].value_counts()\n",
    "print(year)"
   ]
  },
  {
   "cell_type": "markdown",
   "metadata": {},
   "source": [
    "#### Question 3: Which country has the most users?"
   ]
  },
  {
   "cell_type": "code",
   "execution_count": 94,
   "metadata": {},
   "outputs": [
    {
     "name": "stdout",
     "output_type": "stream",
     "text": [
      " usa                        76169\n",
      " spain                      12527\n",
      " united kingdom             12355\n",
      " canada                     11327\n",
      " germany                    10536\n",
      "                            ...  \n",
      " ouranos                        1\n",
      " phillipines                    1\n",
      " voivodina                      1\n",
      " provincia del cachapoal        1\n",
      " a new year is ahead            1\n",
      "Name: Country, Length: 584, dtype: int64\n"
     ]
    }
   ],
   "source": [
    "country=users['Country'].value_counts()\n",
    "print(country)"
   ]
  },
  {
   "cell_type": "markdown",
   "metadata": {},
   "source": [
    "#### Question 4: Which books are Top 10? "
   ]
  },
  {
   "cell_type": "code",
   "execution_count": 95,
   "metadata": {},
   "outputs": [],
   "source": [
    "best_book=pd.merge(ratings, books, on='ISBN', how='inner')\n"
   ]
  },
  {
   "cell_type": "code",
   "execution_count": 96,
   "metadata": {
    "scrolled": true
   },
   "outputs": [
    {
     "data": {
      "text/plain": [
       "Book-Title\n",
       "Orvis Fly Fishing Guide (Nick Lyons Books)                             10.0\n",
       "New Kid in School (Lizzie McGuire, #6)                                 10.0\n",
       "The Velveteen Rabbit (Creative Editions)                               10.0\n",
       "Ezra Nehemiah (Collegeville Bible Commentary Old Testament 11)         10.0\n",
       "New Improved!: Dykes to Watch Out for (Dykes to Watch Out for)         10.0\n",
       "Ezekiel, Daniel (Collegeville Bible Commentary. Old Testament ; 16)    10.0\n",
       "Eyewitness: Titanic                                                    10.0\n",
       "Eyewitness: Renaissance (Eyewitness Books)                             10.0\n",
       "Eyewitness: Music                                                      10.0\n",
       "Eyewitness: American Revolution (Eyewitness Books)                     10.0\n",
       "Name: Book-Rating, dtype: float64"
      ]
     },
     "execution_count": 96,
     "metadata": {},
     "output_type": "execute_result"
    }
   ],
   "source": [
    "x=best_book.groupby('Book-Title')['Book-Rating'].mean()\n",
    "sorted_data = x.sort_values( ascending=False)\n",
    "sorted_data.head(10)"
   ]
  },
  {
   "cell_type": "markdown",
   "metadata": {},
   "source": [
    "#### Question 5: Which publisher has the best books? (by book rating)"
   ]
  },
  {
   "cell_type": "code",
   "execution_count": 97,
   "metadata": {},
   "outputs": [
    {
     "data": {
      "text/plain": [
       "Publisher\n",
       " Editions P. Terrail    10.0\n",
       "Name: Book-Rating, dtype: float64"
      ]
     },
     "execution_count": 97,
     "metadata": {},
     "output_type": "execute_result"
    }
   ],
   "source": [
    "publisher=best_book.groupby('Publisher')['Book-Rating'].mean()\n",
    "sort_publishers=publisher.sort_values( ascending=False)\n",
    "sort_publishers.head(1)"
   ]
  },
  {
   "cell_type": "markdown",
   "metadata": {},
   "source": [
    "#### Question 6:Which centry has the most published books?"
   ]
  },
  {
   "cell_type": "code",
   "execution_count": 98,
   "metadata": {},
   "outputs": [
    {
     "data": {
      "text/html": [
       "<div>\n",
       "<style scoped>\n",
       "    .dataframe tbody tr th:only-of-type {\n",
       "        vertical-align: middle;\n",
       "    }\n",
       "\n",
       "    .dataframe tbody tr th {\n",
       "        vertical-align: top;\n",
       "    }\n",
       "\n",
       "    .dataframe thead th {\n",
       "        text-align: right;\n",
       "    }\n",
       "</style>\n",
       "<table border=\"1\" class=\"dataframe\">\n",
       "  <thead>\n",
       "    <tr style=\"text-align: right;\">\n",
       "      <th></th>\n",
       "      <th>ISBN</th>\n",
       "      <th>Book-Title</th>\n",
       "      <th>Book-Author</th>\n",
       "      <th>Year-Of-Publication</th>\n",
       "      <th>Publisher</th>\n",
       "      <th>Image-URL-S</th>\n",
       "      <th>Image-URL-M</th>\n",
       "      <th>Image-URL-L</th>\n",
       "      <th>Total_num</th>\n",
       "    </tr>\n",
       "    <tr>\n",
       "      <th>Year-Of-Publication</th>\n",
       "      <th></th>\n",
       "      <th></th>\n",
       "      <th></th>\n",
       "      <th></th>\n",
       "      <th></th>\n",
       "      <th></th>\n",
       "      <th></th>\n",
       "      <th></th>\n",
       "      <th></th>\n",
       "    </tr>\n",
       "  </thead>\n",
       "  <tbody>\n",
       "    <tr>\n",
       "      <th>(1300, 1400]</th>\n",
       "      <td>2</td>\n",
       "      <td>2</td>\n",
       "      <td>2</td>\n",
       "      <td>2</td>\n",
       "      <td>2</td>\n",
       "      <td>2</td>\n",
       "      <td>2</td>\n",
       "      <td>2</td>\n",
       "      <td>2</td>\n",
       "    </tr>\n",
       "    <tr>\n",
       "      <th>(1400, 1500]</th>\n",
       "      <td>0</td>\n",
       "      <td>0</td>\n",
       "      <td>0</td>\n",
       "      <td>0</td>\n",
       "      <td>0</td>\n",
       "      <td>0</td>\n",
       "      <td>0</td>\n",
       "      <td>0</td>\n",
       "      <td>0</td>\n",
       "    </tr>\n",
       "    <tr>\n",
       "      <th>(1500, 1600]</th>\n",
       "      <td>0</td>\n",
       "      <td>0</td>\n",
       "      <td>0</td>\n",
       "      <td>0</td>\n",
       "      <td>0</td>\n",
       "      <td>0</td>\n",
       "      <td>0</td>\n",
       "      <td>0</td>\n",
       "      <td>0</td>\n",
       "    </tr>\n",
       "    <tr>\n",
       "      <th>(1600, 1700]</th>\n",
       "      <td>0</td>\n",
       "      <td>0</td>\n",
       "      <td>0</td>\n",
       "      <td>0</td>\n",
       "      <td>0</td>\n",
       "      <td>0</td>\n",
       "      <td>0</td>\n",
       "      <td>0</td>\n",
       "      <td>0</td>\n",
       "    </tr>\n",
       "    <tr>\n",
       "      <th>(1700, 1800]</th>\n",
       "      <td>0</td>\n",
       "      <td>0</td>\n",
       "      <td>0</td>\n",
       "      <td>0</td>\n",
       "      <td>0</td>\n",
       "      <td>0</td>\n",
       "      <td>0</td>\n",
       "      <td>0</td>\n",
       "      <td>0</td>\n",
       "    </tr>\n",
       "    <tr>\n",
       "      <th>(1800, 1900]</th>\n",
       "      <td>5</td>\n",
       "      <td>5</td>\n",
       "      <td>5</td>\n",
       "      <td>5</td>\n",
       "      <td>5</td>\n",
       "      <td>5</td>\n",
       "      <td>5</td>\n",
       "      <td>5</td>\n",
       "      <td>5</td>\n",
       "    </tr>\n",
       "    <tr>\n",
       "      <th>(1900, 2000]</th>\n",
       "      <td>211281</td>\n",
       "      <td>211281</td>\n",
       "      <td>211280</td>\n",
       "      <td>211281</td>\n",
       "      <td>211281</td>\n",
       "      <td>211281</td>\n",
       "      <td>211281</td>\n",
       "      <td>211270</td>\n",
       "      <td>211280</td>\n",
       "    </tr>\n",
       "  </tbody>\n",
       "</table>\n",
       "</div>"
      ],
      "text/plain": [
       "                       ISBN  Book-Title  Book-Author  Year-Of-Publication  \\\n",
       "Year-Of-Publication                                                         \n",
       "(1300, 1400]              2           2            2                    2   \n",
       "(1400, 1500]              0           0            0                    0   \n",
       "(1500, 1600]              0           0            0                    0   \n",
       "(1600, 1700]              0           0            0                    0   \n",
       "(1700, 1800]              0           0            0                    0   \n",
       "(1800, 1900]              5           5            5                    5   \n",
       "(1900, 2000]         211281      211281       211280               211281   \n",
       "\n",
       "                     Publisher  Image-URL-S  Image-URL-M  Image-URL-L  \\\n",
       "Year-Of-Publication                                                     \n",
       "(1300, 1400]                 2            2            2            2   \n",
       "(1400, 1500]                 0            0            0            0   \n",
       "(1500, 1600]                 0            0            0            0   \n",
       "(1600, 1700]                 0            0            0            0   \n",
       "(1700, 1800]                 0            0            0            0   \n",
       "(1800, 1900]                 5            5            5            5   \n",
       "(1900, 2000]            211281       211281       211281       211270   \n",
       "\n",
       "                     Total_num  \n",
       "Year-Of-Publication             \n",
       "(1300, 1400]                 2  \n",
       "(1400, 1500]                 0  \n",
       "(1500, 1600]                 0  \n",
       "(1600, 1700]                 0  \n",
       "(1700, 1800]                 0  \n",
       "(1800, 1900]                 5  \n",
       "(1900, 2000]            211280  "
      ]
     },
     "execution_count": 98,
     "metadata": {},
     "output_type": "execute_result"
    }
   ],
   "source": [
    "centry=books.groupby(pd.cut(books['Year-Of-Publication'], np.arange(1300,2020,100))).count()\n",
    "centry"
   ]
  },
  {
   "cell_type": "code",
   "execution_count": null,
   "metadata": {},
   "outputs": [],
   "source": []
  },
  {
   "cell_type": "code",
   "execution_count": 99,
   "metadata": {},
   "outputs": [
    {
     "data": {
      "text/plain": [
       "Text(0, 0.5, 'Number of books')"
      ]
     },
     "execution_count": 99,
     "metadata": {},
     "output_type": "execute_result"
    },
    {
     "data": {
      "image/png": "[encoded data removed]",
      "text/plain": [
       "<Figure size 576x576 with 1 Axes>"
      ]
     },
     "metadata": {
      "needs_background": "light"
     },
     "output_type": "display_data"
    }
   ],
   "source": [
    "centries=['1300', '1400', '1500', '1600', '1700', '1800', '1900', '2000']\n",
    "ax = centry.plot(kind='bar', legend=False, color='blue',figsize=(8,8))\n",
    "ax.set_title('Number of publicised books per centry')\n",
    "ax.set_xlabel('Centry')\n",
    "ax.set_ylabel('Number of books')"
   ]
  },
  {
   "cell_type": "markdown",
   "metadata": {},
   "source": [
    "#### Question 7: Number of publicised books by publisher - ranged top 15 publishers\n",
    "\n"
   ]
  },
  {
   "cell_type": "code",
   "execution_count": 100,
   "metadata": {},
   "outputs": [],
   "source": [
    "publ = books.groupby(['Publisher'])\n",
    "p = publ['Book-Title'].count().sort_values(ascending=False)\n",
    "p = p.head(15)"
   ]
  },
  {
   "cell_type": "code",
   "execution_count": 101,
   "metadata": {},
   "outputs": [
    {
     "data": {
      "text/plain": [
       "Text(0, 0.5, 'Number of books')"
      ]
     },
     "execution_count": 101,
     "metadata": {},
     "output_type": "execute_result"
    },
    {
     "data": {
      "image/png": "[encoded data removed]",
      "text/plain": [
       "<Figure size 864x576 with 1 Axes>"
      ]
     },
     "metadata": {
      "needs_background": "light"
     },
     "output_type": "display_data"
    }
   ],
   "source": [
    "plt.figure(figsize=(12, 8))\n",
    "ax = p.plot(kind='bar')\n",
    "ax.set_title('Number of publicised books by publisher')\n",
    "ax.set_xlabel('Publishers')\n",
    "ax.set_ylabel('Number of books')"
   ]
  },
  {
   "cell_type": "markdown",
   "metadata": {},
   "source": [
    "#### Question 8: Which cities in Washington has most dissatisfied users? (Users that gives the lowest ratings)"
   ]
  },
  {
   "cell_type": "code",
   "execution_count": 102,
   "metadata": {},
   "outputs": [
    {
     "data": {
      "text/html": [
       "<div>\n",
       "<style scoped>\n",
       "    .dataframe tbody tr th:only-of-type {\n",
       "        vertical-align: middle;\n",
       "    }\n",
       "\n",
       "    .dataframe tbody tr th {\n",
       "        vertical-align: top;\n",
       "    }\n",
       "\n",
       "    .dataframe thead th {\n",
       "        text-align: right;\n",
       "    }\n",
       "</style>\n",
       "<table border=\"1\" class=\"dataframe\">\n",
       "  <thead>\n",
       "    <tr style=\"text-align: right;\">\n",
       "      <th></th>\n",
       "      <th>User-ID</th>\n",
       "      <th>ISBN</th>\n",
       "      <th>Book-Rating</th>\n",
       "      <th>Location</th>\n",
       "      <th>Age</th>\n",
       "      <th>Country</th>\n",
       "      <th>City</th>\n",
       "    </tr>\n",
       "  </thead>\n",
       "  <tbody>\n",
       "    <tr>\n",
       "      <th>0</th>\n",
       "      <td>276729</td>\n",
       "      <td>052165615X</td>\n",
       "      <td>3.0</td>\n",
       "      <td>rijeka, n/a, croatia</td>\n",
       "      <td>16</td>\n",
       "      <td>croatia</td>\n",
       "      <td>rijeka</td>\n",
       "    </tr>\n",
       "    <tr>\n",
       "      <th>1</th>\n",
       "      <td>276729</td>\n",
       "      <td>0521795028</td>\n",
       "      <td>6.0</td>\n",
       "      <td>rijeka, n/a, croatia</td>\n",
       "      <td>16</td>\n",
       "      <td>croatia</td>\n",
       "      <td>rijeka</td>\n",
       "    </tr>\n",
       "    <tr>\n",
       "      <th>2</th>\n",
       "      <td>276737</td>\n",
       "      <td>0600570967</td>\n",
       "      <td>6.0</td>\n",
       "      <td>sydney, new south wales, australia</td>\n",
       "      <td>14</td>\n",
       "      <td>australia</td>\n",
       "      <td>sydney</td>\n",
       "    </tr>\n",
       "    <tr>\n",
       "      <th>3</th>\n",
       "      <td>276745</td>\n",
       "      <td>342310538</td>\n",
       "      <td>10.0</td>\n",
       "      <td>berlin, berlin, germany</td>\n",
       "      <td>27</td>\n",
       "      <td>germany</td>\n",
       "      <td>berlin</td>\n",
       "    </tr>\n",
       "    <tr>\n",
       "      <th>4</th>\n",
       "      <td>276747</td>\n",
       "      <td>0060517794</td>\n",
       "      <td>9.0</td>\n",
       "      <td>iowa city, iowa, usa</td>\n",
       "      <td>25</td>\n",
       "      <td>usa</td>\n",
       "      <td>iowa city</td>\n",
       "    </tr>\n",
       "  </tbody>\n",
       "</table>\n",
       "</div>"
      ],
      "text/plain": [
       "   User-ID        ISBN  Book-Rating                            Location Age  \\\n",
       "0   276729  052165615X          3.0                rijeka, n/a, croatia  16   \n",
       "1   276729  0521795028          6.0                rijeka, n/a, croatia  16   \n",
       "2   276737  0600570967          6.0  sydney, new south wales, australia  14   \n",
       "3   276745   342310538         10.0             berlin, berlin, germany  27   \n",
       "4   276747  0060517794          9.0                iowa city, iowa, usa  25   \n",
       "\n",
       "      Country       City  \n",
       "0     croatia     rijeka  \n",
       "1     croatia     rijeka  \n",
       "2   australia     sydney  \n",
       "3     germany     berlin  \n",
       "4         usa  iowa city  "
      ]
     },
     "execution_count": 102,
     "metadata": {},
     "output_type": "execute_result"
    }
   ],
   "source": [
    "users_ratings=pd.merge(ratings, users, on='User-ID', how='inner')\n",
    "users_ratings.head()"
   ]
  },
  {
   "cell_type": "code",
   "execution_count": 103,
   "metadata": {},
   "outputs": [
    {
     "name": "stdout",
     "output_type": "stream",
     "text": [
      "City\n",
      "mazama            3.0\n",
      "liberty lake      5.0\n",
      "winlock           5.0\n",
      "ft.lewis          5.0\n",
      "tukwila           5.0\n",
      "                 ... \n",
      "black diamond    10.0\n",
      "south hill       10.0\n",
      "chehalis         10.0\n",
      "maple valley     10.0\n",
      "shaw island      10.0\n",
      "Name: Book-Rating, Length: 174, dtype: float64\n"
     ]
    }
   ],
   "source": [
    "usa = users_ratings[users_ratings['Location'].str.contains(r'washington')==True]\n",
    "city_rating=usa.groupby('City')['Book-Rating'].mean().sort_values()\n",
    "print(city_rating)\n",
    "worst=city_rating.head(20)"
   ]
  },
  {
   "cell_type": "code",
   "execution_count": 104,
   "metadata": {},
   "outputs": [
    {
     "data": {
      "text/plain": [
       "Text(0, 0.5, 'Rating')"
      ]
     },
     "execution_count": 104,
     "metadata": {},
     "output_type": "execute_result"
    },
    {
     "data": {
      "image/png": "[encoded data removed]",
      "text/plain": [
       "<Figure size 864x576 with 1 Axes>"
      ]
     },
     "metadata": {
      "needs_background": "light"
     },
     "output_type": "display_data"
    }
   ],
   "source": [
    "plt.figure(figsize=(12, 8))\n",
    "ax = worst.plot(kind='bar', color='maroon')\n",
    "ax.set_title('Mean of ratings per cities in Washington')\n",
    "ax.set_xlabel('Cities')\n",
    "ax.set_ylabel('Rating')"
   ]
  },
  {
   "cell_type": "markdown",
   "metadata": {},
   "source": [
    "#### Question 9: Which author has the biggest number of published books and which is his/her rating?"
   ]
  },
  {
   "cell_type": "code",
   "execution_count": 105,
   "metadata": {},
   "outputs": [
    {
     "data": {
      "text/plain": [
       "ISBN                                                          0451200993\n",
       "Book-Title             Sleeping Murder (Miss Marple Mysteries (Paperb...\n",
       "Book-Author                                              Agatha Christie\n",
       "Year-Of-Publication                                                 2000\n",
       "Publisher                                           New American Library\n",
       "Image-URL-S            http://images.amazon.com/images/P/0451200993.0...\n",
       "Image-URL-M            http://images.amazon.com/images/P/0451200993.0...\n",
       "Image-URL-L            http://images.amazon.com/images/P/0451200993.0...\n",
       "Total_num                                                            597\n",
       "Name: 1855, dtype: object"
      ]
     },
     "execution_count": 105,
     "metadata": {},
     "output_type": "execute_result"
    }
   ],
   "source": [
    "books.loc[books['Total_num'].idxmax()]\n",
    "\n"
   ]
  },
  {
   "cell_type": "code",
   "execution_count": 106,
   "metadata": {},
   "outputs": [
    {
     "data": {
      "text/plain": [
       "7.769946808510638"
      ]
     },
     "execution_count": 106,
     "metadata": {},
     "output_type": "execute_result"
    }
   ],
   "source": [
    "agatha = best_book[best_book['Book-Author'].str.contains('Agatha')==True]\n",
    "agatha['Book-Rating'].mean()"
   ]
  },
  {
   "cell_type": "markdown",
   "metadata": {},
   "source": [
    "#### How looks the curve of ratings of Nora Roberts through years?"
   ]
  },
  {
   "cell_type": "code",
   "execution_count": 107,
   "metadata": {},
   "outputs": [
    {
     "data": {
      "text/plain": [
       "Year-Of-Publication\n",
       "1959     8.500000\n",
       "1972     8.500000\n",
       "1973     7.500000\n",
       "1975     7.500000\n",
       "1976     6.000000\n",
       "1977     7.000000\n",
       "1978    10.000000\n",
       "1979     9.000000\n",
       "1980    10.000000\n",
       "1981     6.666667\n",
       "1982     9.500000\n",
       "1983     7.833333\n",
       "1984     7.769231\n",
       "1985     7.625000\n",
       "1986     8.500000\n",
       "1987     6.666667\n",
       "1988     7.571429\n",
       "1989     8.166667\n",
       "1990     7.640000\n",
       "1991     7.285714\n",
       "1992     8.409091\n",
       "1993     7.928571\n",
       "1994     8.060000\n",
       "1995     7.490566\n",
       "1996     7.709677\n",
       "1997     7.695652\n",
       "1998     7.612903\n",
       "1999     7.676829\n",
       "2000     7.685714\n",
       "2001     7.551471\n",
       "2002     7.532982\n",
       "2003     7.721959\n",
       "2004     7.978947\n",
       "Name: Book-Rating, dtype: float64"
      ]
     },
     "execution_count": 107,
     "metadata": {},
     "output_type": "execute_result"
    }
   ],
   "source": [
    "nora = best_book[best_book['Book-Author'].str.contains('Nora')==True]\n",
    "nora['Year-Of-Publication'].sort_values()\n",
    "nora_ratings=nora.groupby('Year-Of-Publication')['Book-Rating'].mean()\n",
    "nora_ratings"
   ]
  },
  {
   "cell_type": "code",
   "execution_count": 108,
   "metadata": {},
   "outputs": [
    {
     "data": {
      "text/plain": [
       "Text(0, 0.5, 'Rating')"
      ]
     },
     "execution_count": 108,
     "metadata": {},
     "output_type": "execute_result"
    },
    {
     "data": {
      "image/png": "[encoded data removed]",
      "text/plain": [
       "<Figure size 864x576 with 1 Axes>"
      ]
     },
     "metadata": {
      "needs_background": "light"
     },
     "output_type": "display_data"
    }
   ],
   "source": [
    "plt.figure(figsize=(12, 8))\n",
    "ax = nora_ratings.plot(kind='bar', color='maroon')\n",
    "ax.set_title('Nora Roberts ratings through years')\n",
    "ax.set_xlabel('Years')\n",
    "ax.set_ylabel('Rating')"
   ]
  },
  {
   "cell_type": "code",
   "execution_count": 109,
   "metadata": {},
   "outputs": [
    {
     "data": {
      "image/png": "[encoded data removed]",
      "text/plain": [
       "<Figure size 432x288 with 1 Axes>"
      ]
     },
     "metadata": {
      "needs_background": "light"
     },
     "output_type": "display_data"
    }
   ],
   "source": [
    "lines = nora_ratings.plot.line(x='Year', y='Rating')"
   ]
  },
  {
   "cell_type": "markdown",
   "metadata": {},
   "source": [
    "### 10. Whats the average age of users in nyc?"
   ]
  },
  {
   "cell_type": "code",
   "execution_count": 110,
   "metadata": {},
   "outputs": [
    {
     "data": {
      "text/plain": [
       "5.14117011644456e+61"
      ]
     },
     "execution_count": 110,
     "metadata": {},
     "output_type": "execute_result"
    }
   ],
   "source": [
    "readers = users[users['Age'].isnull()==False]\n",
    "readers = users[users['Age']!='0']\n",
    "readers['Age'].astype('int64')\n",
    "readers = readers[readers['Age'] > '10']\n",
    "\n",
    "nyc = users[users['City']=='nyc']\n",
    "nyc['Age'].mean()"
   ]
  },
  {
   "cell_type": "markdown",
   "metadata": {},
   "source": [
    "#### Visualization of the values"
   ]
  },
  {
   "cell_type": "code",
   "execution_count": 111,
   "metadata": {},
   "outputs": [
    {
     "data": {
      "image/png": "[encoded data removed]",
      "text/plain": [
       "<Figure size 1152x360 with 1 Axes>"
      ]
     },
     "metadata": {
      "needs_background": "light"
     },
     "output_type": "display_data"
    }
   ],
   "source": [
    "s = nyc['Age'].value_counts()\n",
    "plt.figure(figsize=(16,5))\n",
    "plt.plot(s, 'bs')\n",
    "plt.xticks(rotation=90)\n",
    "plt.xlabel('Age')\n",
    "plt.ylabel('Number of users')\n",
    "plt.show()"
   ]
  },
  {
   "cell_type": "markdown",
   "metadata": {},
   "source": [
    "### 11. What's the most read book?"
   ]
  },
  {
   "cell_type": "code",
   "execution_count": 112,
   "metadata": {},
   "outputs": [
    {
     "data": {
      "text/plain": [
       "Book-Title\n",
       "The Lovely Bones: A Novel    635\n",
       "Name: User-ID, dtype: int64"
      ]
     },
     "execution_count": 112,
     "metadata": {},
     "output_type": "execute_result"
    }
   ],
   "source": [
    "book = best_book.groupby('Book-Title')['User-ID'].count().sort_values(ascending=True)\n",
    "book.tail(1)"
   ]
  },
  {
   "cell_type": "markdown",
   "metadata": {},
   "source": [
    "### 12. What year Oxford University Press published the most books?"
   ]
  },
  {
   "cell_type": "code",
   "execution_count": 113,
   "metadata": {},
   "outputs": [
    {
     "data": {
      "text/plain": [
       "1998    211\n",
       "Name: Year-Of-Publication, dtype: int64"
      ]
     },
     "execution_count": 113,
     "metadata": {},
     "output_type": "execute_result"
    }
   ],
   "source": [
    "oxford = books[books['Publisher'] == 'Oxford University Press']\n",
    "oxford_val = oxford['Year-Of-Publication'].value_counts().sort_values()\n",
    "oxford_val.tail(1)"
   ]
  },
  {
   "cell_type": "code",
   "execution_count": 116,
   "metadata": {},
   "outputs": [
    {
     "data": {
      "text/plain": [
       "Text(0, 0.5, 'Year')"
      ]
     },
     "execution_count": 116,
     "metadata": {},
     "output_type": "execute_result"
    },
    {
     "data": {
      "image/png": "[encoded data removed]",
      "text/plain": [
       "<Figure size 1152x720 with 1 Axes>"
      ]
     },
     "metadata": {
      "needs_background": "light"
     },
     "output_type": "display_data"
    }
   ],
   "source": [
    "plt.figure(figsize=(16,10))\n",
    "o = oxford_val.plot(kind='barh')\n",
    "o.set_title('Number of publicised books through the years')\n",
    "o.set_xlabel('Number of publicised books')\n",
    "o.set_ylabel('Year')"
   ]
  },
  {
   "cell_type": "code",
   "execution_count": null,
   "metadata": {},
   "outputs": [],
   "source": []
  }
 ],
 "metadata": {
  "kernelspec": {
   "display_name": "Python 3",
   "language": "python",
   "name": "python3"
  },
  "language_info": {
   "codemirror_mode": {
    "name": "ipython",
    "version": 3
   },
   "file_extension": ".py",
   "mimetype": "text/x-python",
   "name": "python",
   "nbconvert_exporter": "python",
   "pygments_lexer": "ipython3",
   "version": "3.8.3"
  }
 },
 "nbformat": 4,
 "nbformat_minor": 4
}
